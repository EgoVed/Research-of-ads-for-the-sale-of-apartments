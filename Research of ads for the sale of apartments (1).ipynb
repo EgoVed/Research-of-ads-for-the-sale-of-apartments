{
 "cells": [
  {
   "cell_type": "markdown",
   "metadata": {},
   "source": [
    "# Исследование объявлений о продаже квартир\n",
    "\n",
    "В моем распоряжении данные сервиса Яндекс.Недвижимость — архив объявлений о продаже квартир в Санкт-Петербурге и соседних населённых пунктов за несколько лет. Нужно определить рыночную стоимость объектов недвижимости. Это позволит построить автоматизированную систему: она отследит аномалии и мошенническую деятельность. \n",
    "\n",
    "По каждой квартире на продажу доступны два вида данных. Первые вписаны пользователем, вторые — получены автоматически на основе картографических данных. Например, расстояние до центра, аэропорта, ближайшего парка и водоёма. "
   ]
  },
  {
   "cell_type": "markdown",
   "metadata": {},
   "source": [
    "### Шаг 1. Открыть файл с данными и изучить общую информацию. "
   ]
  },
  {
   "cell_type": "code",
   "execution_count": 4,
   "metadata": {},
   "outputs": [
    {
     "data": {
      "text/html": [
       "<div>\n",
       "<style scoped>\n",
       "    .dataframe tbody tr th:only-of-type {\n",
       "        vertical-align: middle;\n",
       "    }\n",
       "\n",
       "    .dataframe tbody tr th {\n",
       "        vertical-align: top;\n",
       "    }\n",
       "\n",
       "    .dataframe thead th {\n",
       "        text-align: right;\n",
       "    }\n",
       "</style>\n",
       "<table border=\"1\" class=\"dataframe\">\n",
       "  <thead>\n",
       "    <tr style=\"text-align: right;\">\n",
       "      <th></th>\n",
       "      <th>Unnamed: 0</th>\n",
       "      <th>total_images</th>\n",
       "      <th>last_price</th>\n",
       "      <th>total_area</th>\n",
       "      <th>first_day_exposition</th>\n",
       "      <th>rooms</th>\n",
       "      <th>ceiling_height</th>\n",
       "      <th>floors_total</th>\n",
       "      <th>living_area</th>\n",
       "      <th>floor</th>\n",
       "      <th>is_apartment</th>\n",
       "      <th>studio</th>\n",
       "      <th>open_plan</th>\n",
       "      <th>kitchen_area</th>\n",
       "      <th>balcony</th>\n",
       "      <th>locality_name</th>\n",
       "      <th>airports_nearest</th>\n",
       "      <th>cityCenters_nearest</th>\n",
       "      <th>parks_around3000</th>\n",
       "      <th>parks_nearest</th>\n",
       "      <th>ponds_around3000</th>\n",
       "      <th>ponds_nearest</th>\n",
       "      <th>days_exposition</th>\n",
       "    </tr>\n",
       "  </thead>\n",
       "  <tbody>\n",
       "    <tr>\n",
       "      <th>0</th>\n",
       "      <td>0</td>\n",
       "      <td>20</td>\n",
       "      <td>13000000.0</td>\n",
       "      <td>108.0</td>\n",
       "      <td>2019-03-07T00:00:00</td>\n",
       "      <td>3</td>\n",
       "      <td>2.70</td>\n",
       "      <td>16.0</td>\n",
       "      <td>51.0</td>\n",
       "      <td>8</td>\n",
       "      <td>NaN</td>\n",
       "      <td>False</td>\n",
       "      <td>False</td>\n",
       "      <td>25.0</td>\n",
       "      <td>NaN</td>\n",
       "      <td>Санкт-Петербург</td>\n",
       "      <td>18863.0</td>\n",
       "      <td>16028.0</td>\n",
       "      <td>1.0</td>\n",
       "      <td>482.0</td>\n",
       "      <td>2.0</td>\n",
       "      <td>755.0</td>\n",
       "      <td>NaN</td>\n",
       "    </tr>\n",
       "    <tr>\n",
       "      <th>1</th>\n",
       "      <td>1</td>\n",
       "      <td>7</td>\n",
       "      <td>3350000.0</td>\n",
       "      <td>40.4</td>\n",
       "      <td>2018-12-04T00:00:00</td>\n",
       "      <td>1</td>\n",
       "      <td>NaN</td>\n",
       "      <td>11.0</td>\n",
       "      <td>18.6</td>\n",
       "      <td>1</td>\n",
       "      <td>NaN</td>\n",
       "      <td>False</td>\n",
       "      <td>False</td>\n",
       "      <td>11.0</td>\n",
       "      <td>2.0</td>\n",
       "      <td>посёлок Шушары</td>\n",
       "      <td>12817.0</td>\n",
       "      <td>18603.0</td>\n",
       "      <td>0.0</td>\n",
       "      <td>NaN</td>\n",
       "      <td>0.0</td>\n",
       "      <td>NaN</td>\n",
       "      <td>81.0</td>\n",
       "    </tr>\n",
       "    <tr>\n",
       "      <th>2</th>\n",
       "      <td>2</td>\n",
       "      <td>10</td>\n",
       "      <td>5196000.0</td>\n",
       "      <td>56.0</td>\n",
       "      <td>2015-08-20T00:00:00</td>\n",
       "      <td>2</td>\n",
       "      <td>NaN</td>\n",
       "      <td>5.0</td>\n",
       "      <td>34.3</td>\n",
       "      <td>4</td>\n",
       "      <td>NaN</td>\n",
       "      <td>False</td>\n",
       "      <td>False</td>\n",
       "      <td>8.3</td>\n",
       "      <td>0.0</td>\n",
       "      <td>Санкт-Петербург</td>\n",
       "      <td>21741.0</td>\n",
       "      <td>13933.0</td>\n",
       "      <td>1.0</td>\n",
       "      <td>90.0</td>\n",
       "      <td>2.0</td>\n",
       "      <td>574.0</td>\n",
       "      <td>558.0</td>\n",
       "    </tr>\n",
       "    <tr>\n",
       "      <th>3</th>\n",
       "      <td>3</td>\n",
       "      <td>0</td>\n",
       "      <td>64900000.0</td>\n",
       "      <td>159.0</td>\n",
       "      <td>2015-07-24T00:00:00</td>\n",
       "      <td>3</td>\n",
       "      <td>NaN</td>\n",
       "      <td>14.0</td>\n",
       "      <td>NaN</td>\n",
       "      <td>9</td>\n",
       "      <td>NaN</td>\n",
       "      <td>False</td>\n",
       "      <td>False</td>\n",
       "      <td>NaN</td>\n",
       "      <td>0.0</td>\n",
       "      <td>Санкт-Петербург</td>\n",
       "      <td>28098.0</td>\n",
       "      <td>6800.0</td>\n",
       "      <td>2.0</td>\n",
       "      <td>84.0</td>\n",
       "      <td>3.0</td>\n",
       "      <td>234.0</td>\n",
       "      <td>424.0</td>\n",
       "    </tr>\n",
       "    <tr>\n",
       "      <th>4</th>\n",
       "      <td>4</td>\n",
       "      <td>2</td>\n",
       "      <td>10000000.0</td>\n",
       "      <td>100.0</td>\n",
       "      <td>2018-06-19T00:00:00</td>\n",
       "      <td>2</td>\n",
       "      <td>3.03</td>\n",
       "      <td>14.0</td>\n",
       "      <td>32.0</td>\n",
       "      <td>13</td>\n",
       "      <td>NaN</td>\n",
       "      <td>False</td>\n",
       "      <td>False</td>\n",
       "      <td>41.0</td>\n",
       "      <td>NaN</td>\n",
       "      <td>Санкт-Петербург</td>\n",
       "      <td>31856.0</td>\n",
       "      <td>8098.0</td>\n",
       "      <td>2.0</td>\n",
       "      <td>112.0</td>\n",
       "      <td>1.0</td>\n",
       "      <td>48.0</td>\n",
       "      <td>121.0</td>\n",
       "    </tr>\n",
       "  </tbody>\n",
       "</table>\n",
       "</div>"
      ],
      "text/plain": [
       "   Unnamed: 0  total_images  last_price  total_area first_day_exposition  \\\n",
       "0           0            20  13000000.0       108.0  2019-03-07T00:00:00   \n",
       "1           1             7   3350000.0        40.4  2018-12-04T00:00:00   \n",
       "2           2            10   5196000.0        56.0  2015-08-20T00:00:00   \n",
       "3           3             0  64900000.0       159.0  2015-07-24T00:00:00   \n",
       "4           4             2  10000000.0       100.0  2018-06-19T00:00:00   \n",
       "\n",
       "   rooms  ceiling_height  floors_total  living_area  floor is_apartment  \\\n",
       "0      3            2.70          16.0         51.0      8          NaN   \n",
       "1      1             NaN          11.0         18.6      1          NaN   \n",
       "2      2             NaN           5.0         34.3      4          NaN   \n",
       "3      3             NaN          14.0          NaN      9          NaN   \n",
       "4      2            3.03          14.0         32.0     13          NaN   \n",
       "\n",
       "   studio  open_plan  kitchen_area  balcony    locality_name  \\\n",
       "0   False      False          25.0      NaN  Санкт-Петербург   \n",
       "1   False      False          11.0      2.0   посёлок Шушары   \n",
       "2   False      False           8.3      0.0  Санкт-Петербург   \n",
       "3   False      False           NaN      0.0  Санкт-Петербург   \n",
       "4   False      False          41.0      NaN  Санкт-Петербург   \n",
       "\n",
       "   airports_nearest  cityCenters_nearest  parks_around3000  parks_nearest  \\\n",
       "0           18863.0              16028.0               1.0          482.0   \n",
       "1           12817.0              18603.0               0.0            NaN   \n",
       "2           21741.0              13933.0               1.0           90.0   \n",
       "3           28098.0               6800.0               2.0           84.0   \n",
       "4           31856.0               8098.0               2.0          112.0   \n",
       "\n",
       "   ponds_around3000  ponds_nearest  days_exposition  \n",
       "0               2.0          755.0              NaN  \n",
       "1               0.0            NaN             81.0  \n",
       "2               2.0          574.0            558.0  \n",
       "3               3.0          234.0            424.0  \n",
       "4               1.0           48.0            121.0  "
      ]
     },
     "execution_count": 4,
     "metadata": {},
     "output_type": "execute_result"
    }
   ],
   "source": [
    "import pandas as pd\n",
    "data=pd.read_csv('real_estate_data.csv',sep=',',decimal='.')\n",
    "pd.set_option('display.max_columns', 50) # все столбца показываем\n",
    "data.head()\n"
   ]
  },
  {
   "cell_type": "code",
   "execution_count": 5,
   "metadata": {},
   "outputs": [
    {
     "name": "stdout",
     "output_type": "stream",
     "text": [
      "<class 'pandas.core.frame.DataFrame'>\n",
      "RangeIndex: 23699 entries, 0 to 23698\n",
      "Data columns (total 23 columns):\n",
      " #   Column                Non-Null Count  Dtype  \n",
      "---  ------                --------------  -----  \n",
      " 0   Unnamed: 0            23699 non-null  int64  \n",
      " 1   total_images          23699 non-null  int64  \n",
      " 2   last_price            23699 non-null  float64\n",
      " 3   total_area            23699 non-null  float64\n",
      " 4   first_day_exposition  23699 non-null  object \n",
      " 5   rooms                 23699 non-null  int64  \n",
      " 6   ceiling_height        14504 non-null  float64\n",
      " 7   floors_total          23613 non-null  float64\n",
      " 8   living_area           21796 non-null  float64\n",
      " 9   floor                 23699 non-null  int64  \n",
      " 10  is_apartment          2775 non-null   object \n",
      " 11  studio                23699 non-null  bool   \n",
      " 12  open_plan             23699 non-null  bool   \n",
      " 13  kitchen_area          21421 non-null  float64\n",
      " 14  balcony               12180 non-null  float64\n",
      " 15  locality_name         23650 non-null  object \n",
      " 16  airports_nearest      18157 non-null  float64\n",
      " 17  cityCenters_nearest   18180 non-null  float64\n",
      " 18  parks_around3000      18181 non-null  float64\n",
      " 19  parks_nearest         8079 non-null   float64\n",
      " 20  ponds_around3000      18181 non-null  float64\n",
      " 21  ponds_nearest         9110 non-null   float64\n",
      " 22  days_exposition       20518 non-null  float64\n",
      "dtypes: bool(2), float64(14), int64(4), object(3)\n",
      "memory usage: 3.8+ MB\n"
     ]
    }
   ],
   "source": [
    "data.info()"
   ]
  },
  {
   "cell_type": "markdown",
   "metadata": {},
   "source": [
    "### Вывод"
   ]
  },
  {
   "cell_type": "markdown",
   "metadata": {},
   "source": [
    " - Данные состоят из 22 столбцов:\n",
    "    airports_nearest — расстояние до ближайшего аэропорта в метрах (м)\n",
    "    balcony — число балконов\n",
    "    ceiling_height — высота потолков (м)\n",
    "    cityCenters_nearest — расстояние до центра города (м)\n",
    "    days_exposition — сколько дней было размещено объявление (от публикации до снятия)\n",
    "    first_day_exposition — дата публикации\n",
    "    floor — этаж\n",
    "    floors_total — всего этажей в доме\n",
    "    is_apartment — апартаменты (булев тип)\n",
    "    kitchen_area — площадь кухни в квадратных метрах (м²)\n",
    "    last_price — цена на момент снятия с публикации\n",
    "    living_area — жилая площадь в квадратных метрах(м²)\n",
    "    locality_name — название населённого пункта\n",
    "    open_plan — свободная планировка (булев тип)\n",
    "    parks_around3000 — число парков в радиусе 3 км\n",
    "    parks_nearest — расстояние до ближайшего парка (м)\n",
    "    ponds_around3000 — число водоёмов в радиусе 3 км\n",
    "    ponds_nearest — расстояние до ближайшего водоёма (м)\n",
    "    rooms — число комнат\n",
    "    studio — квартира-студия (булев тип)\n",
    "    total_area — площадь квартиры в квадратных метрах (м²)\n",
    "    total_images — число фотографий квартиры в объявлении\n",
    "    \n",
    "- Всего строк 23699\n",
    "\n",
    "- При выгрузке csv файла в Data Frame данные склеились в одну строку \"\\t\". Разделил их, указав на сепаратор \"\\t\"\n",
    "- В данных есть пропущенные значения в столбцах:\n",
    "    \n",
    "      ceiling_height          14504 non-null object\n",
    "      floors_total            23613 non-null object\n",
    "      living_area             21796 non-null object\n",
    "      is_apartment            2775 non-null object\n",
    "    kitchen_area            21421 non-null object\n",
    "      balcony                 12180 non-null object\n",
    "      locality_name           23650 non-null object\n",
    "      airports_nearest        18157 non-null object\n",
    "      cityCenters_nearest     18180 non-null object\n",
    "      parks_around3000        18181 non-null object\n",
    "      parks_nearest           8079 non-null object\n",
    "      ponds_around3000        18181 non-null object\n",
    "      ponds_nearest           9110 non-null object\n",
    "      days_exposition         20518 non-null object\n",
    "\n",
    "- Присутствуют столбцы тип данных которых надо менять на другой тип:\n",
    "    balcony — число балконов I ->int \n",
    "    days_exposition — сколько дней было размещено объявление (от публикации до снятия)-> int\n",
    "    first_day_exposition — дата публикации -> date\n",
    "    floors_total — всего этажей в доме ->int\n",
    "    is_apartment — апартаменты (булев тип) -> bool\n",
    "    parks_around3000 — число парков в радиусе 3 км ->int\n",
    "    ponds_around3000 — число водоёмов в радиусе 3 км ->int\n",
    "\n",
    " "
   ]
  },
  {
   "cell_type": "markdown",
   "metadata": {},
   "source": [
    "### Шаг 2. Предобработка данных"
   ]
  },
  {
   "cell_type": "code",
   "execution_count": 6,
   "metadata": {},
   "outputs": [
    {
     "data": {
      "text/plain": [
       "0"
      ]
     },
     "execution_count": 6,
     "metadata": {},
     "output_type": "execute_result"
    }
   ],
   "source": [
    "data.dropna(subset=['locality_name'],inplace=True) #Удаляем nan в locality_name\n",
    "data['locality_name'].isna().sum()"
   ]
  },
  {
   "cell_type": "code",
   "execution_count": 7,
   "metadata": {
    "scrolled": false
   },
   "outputs": [
    {
     "data": {
      "text/plain": [
       "9160"
      ]
     },
     "execution_count": 7,
     "metadata": {},
     "output_type": "execute_result"
    }
   ],
   "source": [
    "data['ceiling_height'].isna().sum() # сумма  nan в ceiling_height"
   ]
  },
  {
   "cell_type": "markdown",
   "metadata": {},
   "source": [
    "Средняя высота и медианная почти не отличаются. Для заполение пустых можно принять любую из них"
   ]
  },
  {
   "cell_type": "code",
   "execution_count": 8,
   "metadata": {
    "scrolled": true
   },
   "outputs": [],
   "source": [
    "data['ceiling_height']=data['ceiling_height'].astype('float64')# перевели в вещественный тип\n",
    "#mean_height=data.groupby('locality_name')['ceiling_height'].transform('mean') # сгруппировали высоту потолков в зависимости от района\n",
    "median_height=data['ceiling_height'].median()\n",
    "data['ceiling_height'].fillna(median_height,inplace=True)\n",
    "# записали в пустые места высоты потолка средние значения высот потолков по району\n",
    "#data['ceiling_height'].mean() #средняя высота потолка из всей выборки"
   ]
  },
  {
   "cell_type": "code",
   "execution_count": 9,
   "metadata": {},
   "outputs": [
    {
     "data": {
      "text/plain": [
       "0"
      ]
     },
     "execution_count": 9,
     "metadata": {},
     "output_type": "execute_result"
    }
   ],
   "source": [
    "data['ceiling_height'].isna().sum() # сумма  nan в ceiling_height"
   ]
  },
  {
   "cell_type": "markdown",
   "metadata": {},
   "source": [
    "Средняя высота и медианная почти не отличаются. Для заполение артифактов можно принять любую из них"
   ]
  },
  {
   "cell_type": "code",
   "execution_count": 10,
   "metadata": {},
   "outputs": [],
   "source": [
    "data['living_area']=data['living_area'].astype('float64')  #меняем тип данных на вещественный для living_area и last_price\n",
    "data['last_price']=data['last_price'].astype('float64')"
   ]
  },
  {
   "cell_type": "code",
   "execution_count": 11,
   "metadata": {},
   "outputs": [
    {
     "data": {
      "text/html": [
       "<div>\n",
       "<style scoped>\n",
       "    .dataframe tbody tr th:only-of-type {\n",
       "        vertical-align: middle;\n",
       "    }\n",
       "\n",
       "    .dataframe tbody tr th {\n",
       "        vertical-align: top;\n",
       "    }\n",
       "\n",
       "    .dataframe thead th {\n",
       "        text-align: right;\n",
       "    }\n",
       "</style>\n",
       "<table border=\"1\" class=\"dataframe\">\n",
       "  <thead>\n",
       "    <tr style=\"text-align: right;\">\n",
       "      <th></th>\n",
       "      <th>Unnamed: 0</th>\n",
       "      <th>total_images</th>\n",
       "      <th>last_price</th>\n",
       "      <th>total_area</th>\n",
       "      <th>first_day_exposition</th>\n",
       "      <th>rooms</th>\n",
       "      <th>ceiling_height</th>\n",
       "      <th>floors_total</th>\n",
       "      <th>living_area</th>\n",
       "      <th>floor</th>\n",
       "      <th>is_apartment</th>\n",
       "      <th>studio</th>\n",
       "      <th>open_plan</th>\n",
       "      <th>kitchen_area</th>\n",
       "      <th>balcony</th>\n",
       "      <th>locality_name</th>\n",
       "      <th>airports_nearest</th>\n",
       "      <th>cityCenters_nearest</th>\n",
       "      <th>parks_around3000</th>\n",
       "      <th>parks_nearest</th>\n",
       "      <th>ponds_around3000</th>\n",
       "      <th>ponds_nearest</th>\n",
       "      <th>days_exposition</th>\n",
       "      <th>price_for_m2</th>\n",
       "    </tr>\n",
       "  </thead>\n",
       "  <tbody>\n",
       "    <tr>\n",
       "      <th>0</th>\n",
       "      <td>0</td>\n",
       "      <td>20</td>\n",
       "      <td>13000000.0</td>\n",
       "      <td>108.0</td>\n",
       "      <td>2019-03-07T00:00:00</td>\n",
       "      <td>3</td>\n",
       "      <td>2.70</td>\n",
       "      <td>16.0</td>\n",
       "      <td>51.0</td>\n",
       "      <td>8</td>\n",
       "      <td>NaN</td>\n",
       "      <td>False</td>\n",
       "      <td>False</td>\n",
       "      <td>25.0</td>\n",
       "      <td>NaN</td>\n",
       "      <td>Санкт-Петербург</td>\n",
       "      <td>18863.0</td>\n",
       "      <td>16028.0</td>\n",
       "      <td>1.0</td>\n",
       "      <td>482.0</td>\n",
       "      <td>2.0</td>\n",
       "      <td>755.0</td>\n",
       "      <td>NaN</td>\n",
       "      <td>254901.960784</td>\n",
       "    </tr>\n",
       "    <tr>\n",
       "      <th>1</th>\n",
       "      <td>1</td>\n",
       "      <td>7</td>\n",
       "      <td>3350000.0</td>\n",
       "      <td>40.4</td>\n",
       "      <td>2018-12-04T00:00:00</td>\n",
       "      <td>1</td>\n",
       "      <td>2.65</td>\n",
       "      <td>11.0</td>\n",
       "      <td>18.6</td>\n",
       "      <td>1</td>\n",
       "      <td>NaN</td>\n",
       "      <td>False</td>\n",
       "      <td>False</td>\n",
       "      <td>11.0</td>\n",
       "      <td>2.0</td>\n",
       "      <td>посёлок Шушары</td>\n",
       "      <td>12817.0</td>\n",
       "      <td>18603.0</td>\n",
       "      <td>0.0</td>\n",
       "      <td>NaN</td>\n",
       "      <td>0.0</td>\n",
       "      <td>NaN</td>\n",
       "      <td>81.0</td>\n",
       "      <td>180107.526882</td>\n",
       "    </tr>\n",
       "    <tr>\n",
       "      <th>2</th>\n",
       "      <td>2</td>\n",
       "      <td>10</td>\n",
       "      <td>5196000.0</td>\n",
       "      <td>56.0</td>\n",
       "      <td>2015-08-20T00:00:00</td>\n",
       "      <td>2</td>\n",
       "      <td>2.65</td>\n",
       "      <td>5.0</td>\n",
       "      <td>34.3</td>\n",
       "      <td>4</td>\n",
       "      <td>NaN</td>\n",
       "      <td>False</td>\n",
       "      <td>False</td>\n",
       "      <td>8.3</td>\n",
       "      <td>0.0</td>\n",
       "      <td>Санкт-Петербург</td>\n",
       "      <td>21741.0</td>\n",
       "      <td>13933.0</td>\n",
       "      <td>1.0</td>\n",
       "      <td>90.0</td>\n",
       "      <td>2.0</td>\n",
       "      <td>574.0</td>\n",
       "      <td>558.0</td>\n",
       "      <td>151486.880466</td>\n",
       "    </tr>\n",
       "    <tr>\n",
       "      <th>3</th>\n",
       "      <td>3</td>\n",
       "      <td>0</td>\n",
       "      <td>64900000.0</td>\n",
       "      <td>159.0</td>\n",
       "      <td>2015-07-24T00:00:00</td>\n",
       "      <td>3</td>\n",
       "      <td>2.65</td>\n",
       "      <td>14.0</td>\n",
       "      <td>NaN</td>\n",
       "      <td>9</td>\n",
       "      <td>NaN</td>\n",
       "      <td>False</td>\n",
       "      <td>False</td>\n",
       "      <td>NaN</td>\n",
       "      <td>0.0</td>\n",
       "      <td>Санкт-Петербург</td>\n",
       "      <td>28098.0</td>\n",
       "      <td>6800.0</td>\n",
       "      <td>2.0</td>\n",
       "      <td>84.0</td>\n",
       "      <td>3.0</td>\n",
       "      <td>234.0</td>\n",
       "      <td>424.0</td>\n",
       "      <td>NaN</td>\n",
       "    </tr>\n",
       "    <tr>\n",
       "      <th>4</th>\n",
       "      <td>4</td>\n",
       "      <td>2</td>\n",
       "      <td>10000000.0</td>\n",
       "      <td>100.0</td>\n",
       "      <td>2018-06-19T00:00:00</td>\n",
       "      <td>2</td>\n",
       "      <td>3.03</td>\n",
       "      <td>14.0</td>\n",
       "      <td>32.0</td>\n",
       "      <td>13</td>\n",
       "      <td>NaN</td>\n",
       "      <td>False</td>\n",
       "      <td>False</td>\n",
       "      <td>41.0</td>\n",
       "      <td>NaN</td>\n",
       "      <td>Санкт-Петербург</td>\n",
       "      <td>31856.0</td>\n",
       "      <td>8098.0</td>\n",
       "      <td>2.0</td>\n",
       "      <td>112.0</td>\n",
       "      <td>1.0</td>\n",
       "      <td>48.0</td>\n",
       "      <td>121.0</td>\n",
       "      <td>312500.000000</td>\n",
       "    </tr>\n",
       "  </tbody>\n",
       "</table>\n",
       "</div>"
      ],
      "text/plain": [
       "   Unnamed: 0  total_images  last_price  total_area first_day_exposition  \\\n",
       "0           0            20  13000000.0       108.0  2019-03-07T00:00:00   \n",
       "1           1             7   3350000.0        40.4  2018-12-04T00:00:00   \n",
       "2           2            10   5196000.0        56.0  2015-08-20T00:00:00   \n",
       "3           3             0  64900000.0       159.0  2015-07-24T00:00:00   \n",
       "4           4             2  10000000.0       100.0  2018-06-19T00:00:00   \n",
       "\n",
       "   rooms  ceiling_height  floors_total  living_area  floor is_apartment  \\\n",
       "0      3            2.70          16.0         51.0      8          NaN   \n",
       "1      1            2.65          11.0         18.6      1          NaN   \n",
       "2      2            2.65           5.0         34.3      4          NaN   \n",
       "3      3            2.65          14.0          NaN      9          NaN   \n",
       "4      2            3.03          14.0         32.0     13          NaN   \n",
       "\n",
       "   studio  open_plan  kitchen_area  balcony    locality_name  \\\n",
       "0   False      False          25.0      NaN  Санкт-Петербург   \n",
       "1   False      False          11.0      2.0   посёлок Шушары   \n",
       "2   False      False           8.3      0.0  Санкт-Петербург   \n",
       "3   False      False           NaN      0.0  Санкт-Петербург   \n",
       "4   False      False          41.0      NaN  Санкт-Петербург   \n",
       "\n",
       "   airports_nearest  cityCenters_nearest  parks_around3000  parks_nearest  \\\n",
       "0           18863.0              16028.0               1.0          482.0   \n",
       "1           12817.0              18603.0               0.0            NaN   \n",
       "2           21741.0              13933.0               1.0           90.0   \n",
       "3           28098.0               6800.0               2.0           84.0   \n",
       "4           31856.0               8098.0               2.0          112.0   \n",
       "\n",
       "   ponds_around3000  ponds_nearest  days_exposition   price_for_m2  \n",
       "0               2.0          755.0              NaN  254901.960784  \n",
       "1               0.0            NaN             81.0  180107.526882  \n",
       "2               2.0          574.0            558.0  151486.880466  \n",
       "3               3.0          234.0            424.0            NaN  \n",
       "4               1.0           48.0            121.0  312500.000000  "
      ]
     },
     "execution_count": 11,
     "metadata": {},
     "output_type": "execute_result"
    }
   ],
   "source": [
    "data['price_for_m2']=data['last_price']/data['living_area']# Посчитали и сделали столбец со стоимостью за м2\n",
    "data.head()"
   ]
  },
  {
   "cell_type": "code",
   "execution_count": 12,
   "metadata": {},
   "outputs": [
    {
     "data": {
      "text/plain": [
       "locality_name\n",
       "деревня Малая Романовка    14808.362369\n",
       "деревня Старополье         14851.485149\n",
       "деревня Выскатка           18856.907895\n",
       "поселок Тёсово-4           20833.333333\n",
       "поселок Совхозный          22600.000000\n",
       "                               ...     \n",
       "поселок Севастьяново                NaN\n",
       "поселок станции Лужайка             NaN\n",
       "посёлок Левашово                    NaN\n",
       "посёлок Петро-Славянка              NaN\n",
       "посёлок Плоское                     NaN\n",
       "Name: price_for_m2, Length: 364, dtype: float64"
      ]
     },
     "execution_count": 12,
     "metadata": {},
     "output_type": "execute_result"
    }
   ],
   "source": [
    "grouped_price=data.groupby('locality_name')['price_for_m2'].transform('mean') # группируем по району\n",
    "nan=data.groupby('locality_name')['price_for_m2'].mean()\n",
    "nan.sort_values()"
   ]
  },
  {
   "cell_type": "code",
   "execution_count": 13,
   "metadata": {},
   "outputs": [
    {
     "data": {
      "text/plain": [
       "17"
      ]
     },
     "execution_count": 13,
     "metadata": {},
     "output_type": "execute_result"
    }
   ],
   "source": [
    "grouped_price.isna().sum()\n"
   ]
  },
  {
   "cell_type": "code",
   "execution_count": 14,
   "metadata": {},
   "outputs": [],
   "source": [
    "data['price_for_m2'].fillna(grouped_price,inplace=True)# Заполняем пропуски медианным значением стоимости 1 м.кв в зависимости от района"
   ]
  },
  {
   "cell_type": "code",
   "execution_count": 15,
   "metadata": {},
   "outputs": [
    {
     "data": {
      "text/plain": [
       "0"
      ]
     },
     "execution_count": 15,
     "metadata": {},
     "output_type": "execute_result"
    }
   ],
   "source": [
    "data.dropna(subset=['price_for_m2'],inplace=True) # удаляем если остались  nan\n",
    "data['price_for_m2'].isna().sum()"
   ]
  },
  {
   "cell_type": "code",
   "execution_count": 16,
   "metadata": {},
   "outputs": [
    {
     "data": {
      "text/plain": [
       "1881"
      ]
     },
     "execution_count": 16,
     "metadata": {},
     "output_type": "execute_result"
    }
   ],
   "source": [
    "data['living_area'].isna().sum()"
   ]
  },
  {
   "cell_type": "code",
   "execution_count": 17,
   "metadata": {},
   "outputs": [],
   "source": [
    "data['living_area'].fillna(data['last_price']/data['price_for_m2'],inplace=True) # заполняем пропуски площади поделив цену кв на стоимость 1 м.кв."
   ]
  },
  {
   "cell_type": "code",
   "execution_count": 18,
   "metadata": {},
   "outputs": [
    {
     "data": {
      "text/plain": [
       "0"
      ]
     },
     "execution_count": 18,
     "metadata": {},
     "output_type": "execute_result"
    }
   ],
   "source": [
    "data['living_area'].isna().sum()"
   ]
  },
  {
   "cell_type": "code",
   "execution_count": 19,
   "metadata": {},
   "outputs": [
    {
     "data": {
      "text/plain": [
       "11498"
      ]
     },
     "execution_count": 19,
     "metadata": {},
     "output_type": "execute_result"
    }
   ],
   "source": [
    "data['balcony'].isnull().sum()"
   ]
  },
  {
   "cell_type": "code",
   "execution_count": 20,
   "metadata": {},
   "outputs": [],
   "source": [
    "data['balcony']=data['balcony'].fillna(0) # заполняем пропуски балкона 0- нет балкона\n",
    "data['balcony']=data['balcony'].astype('float64')\n",
    "data['balcony']=data['balcony'].astype('int64')"
   ]
  },
  {
   "cell_type": "code",
   "execution_count": 21,
   "metadata": {},
   "outputs": [
    {
     "data": {
      "text/plain": [
       "0"
      ]
     },
     "execution_count": 21,
     "metadata": {},
     "output_type": "execute_result"
    }
   ],
   "source": [
    "data['balcony'].isnull().sum()"
   ]
  },
  {
   "cell_type": "code",
   "execution_count": 22,
   "metadata": {},
   "outputs": [
    {
     "data": {
      "text/plain": [
       "20874"
      ]
     },
     "execution_count": 22,
     "metadata": {},
     "output_type": "execute_result"
    }
   ],
   "source": [
    "data['is_apartment'].isnull().sum()"
   ]
  },
  {
   "cell_type": "code",
   "execution_count": 23,
   "metadata": {},
   "outputs": [],
   "source": [
    "data['is_apartment']=data['is_apartment'].astype('bool') # переводим в бул"
   ]
  },
  {
   "cell_type": "code",
   "execution_count": 24,
   "metadata": {},
   "outputs": [],
   "source": [
    "data['is_apartment']=data['is_apartment'].fillna(0) #заполняем 0-не аппартамент\n"
   ]
  },
  {
   "cell_type": "code",
   "execution_count": 25,
   "metadata": {},
   "outputs": [
    {
     "data": {
      "text/plain": [
       "0"
      ]
     },
     "execution_count": 25,
     "metadata": {},
     "output_type": "execute_result"
    }
   ],
   "source": [
    "data['is_apartment'].isnull().sum()"
   ]
  },
  {
   "cell_type": "code",
   "execution_count": 26,
   "metadata": {},
   "outputs": [
    {
     "data": {
      "text/plain": [
       "5519"
      ]
     },
     "execution_count": 26,
     "metadata": {},
     "output_type": "execute_result"
    }
   ],
   "source": [
    "data['airports_nearest']=data['airports_nearest'].astype('float64')\n",
    "grouped_airpots_nearest=data.groupby('locality_name')['airports_nearest'].transform('mean') \n",
    "data['airports_nearest'].isnull().sum()"
   ]
  },
  {
   "cell_type": "code",
   "execution_count": 27,
   "metadata": {},
   "outputs": [],
   "source": [
    "data['airports_nearest'].fillna(grouped_airpots_nearest,inplace=True)#заполняем пропуски расстояния до аэропорта по среднемму значению расстояния в зависимости от района."
   ]
  },
  {
   "cell_type": "code",
   "execution_count": 28,
   "metadata": {},
   "outputs": [
    {
     "data": {
      "text/plain": [
       "5371"
      ]
     },
     "execution_count": 28,
     "metadata": {},
     "output_type": "execute_result"
    }
   ],
   "source": [
    "data['airports_nearest'].isnull().sum()"
   ]
  },
  {
   "cell_type": "code",
   "execution_count": 29,
   "metadata": {},
   "outputs": [],
   "source": [
    "data['airports_nearest']=data['airports_nearest'].fillna(data['airports_nearest'].mean()) #где остались пропуски расстояния до аэропорта  заполняем просто по среднемму значению расстояния "
   ]
  },
  {
   "cell_type": "code",
   "execution_count": 30,
   "metadata": {},
   "outputs": [
    {
     "data": {
      "text/plain": [
       "0"
      ]
     },
     "execution_count": 30,
     "metadata": {},
     "output_type": "execute_result"
    }
   ],
   "source": [
    "data['airports_nearest'].isnull().sum()"
   ]
  },
  {
   "cell_type": "code",
   "execution_count": 31,
   "metadata": {},
   "outputs": [],
   "source": [
    "data['cityCenters_nearest']=data['cityCenters_nearest'].astype('float64')"
   ]
  },
  {
   "cell_type": "code",
   "execution_count": 32,
   "metadata": {},
   "outputs": [],
   "source": [
    "data['cityCenters_nearest'].fillna(data.groupby('locality_name')['cityCenters_nearest'].transform('mean'),inplace=True)"
   ]
  },
  {
   "cell_type": "code",
   "execution_count": 33,
   "metadata": {},
   "outputs": [],
   "source": [
    "data['cityCenters_nearest']=data['cityCenters_nearest'].fillna(data['cityCenters_nearest'].mean())#заполняем пропуски расстояния до центра по среднемму значению расстояния в зависимости от района."
   ]
  },
  {
   "cell_type": "code",
   "execution_count": 34,
   "metadata": {},
   "outputs": [
    {
     "data": {
      "text/plain": [
       "0"
      ]
     },
     "execution_count": 34,
     "metadata": {},
     "output_type": "execute_result"
    }
   ],
   "source": [
    "data['cityCenters_nearest'].isnull().sum()"
   ]
  },
  {
   "cell_type": "code",
   "execution_count": 35,
   "metadata": {},
   "outputs": [],
   "source": [
    "data['parks_around3000']=data['parks_around3000'].astype('float64')\n",
    "data['parks_around3000']=data['parks_around3000'].fillna(data['parks_around3000'].mean())#заполняем средним"
   ]
  },
  {
   "cell_type": "code",
   "execution_count": 36,
   "metadata": {},
   "outputs": [],
   "source": [
    "data['parks_around3000']=data['parks_around3000'].astype('int64')"
   ]
  },
  {
   "cell_type": "code",
   "execution_count": 37,
   "metadata": {},
   "outputs": [],
   "source": [
    "data['parks_nearest']=data['parks_nearest'].astype('float64')\n",
    "data['parks_nearest']=data['parks_nearest'].fillna(data['parks_nearest'].mean())#заполняем средним"
   ]
  },
  {
   "cell_type": "code",
   "execution_count": 38,
   "metadata": {},
   "outputs": [],
   "source": [
    "data['ponds_around3000']=data['ponds_around3000'].astype('float64')\n",
    "data['ponds_around3000']=data['ponds_around3000'].fillna(data['ponds_around3000'].mean())#заполняем средним"
   ]
  },
  {
   "cell_type": "code",
   "execution_count": 39,
   "metadata": {},
   "outputs": [],
   "source": [
    "data['ponds_around3000']=data['ponds_around3000'].astype('int64')"
   ]
  },
  {
   "cell_type": "code",
   "execution_count": 40,
   "metadata": {},
   "outputs": [],
   "source": [
    "data['ponds_nearest']=data['ponds_nearest'].astype('float64')"
   ]
  },
  {
   "cell_type": "code",
   "execution_count": 41,
   "metadata": {},
   "outputs": [],
   "source": [
    "data['ponds_nearest']=data['ponds_nearest'].fillna(data['ponds_nearest'].mean())#заполняем средним"
   ]
  },
  {
   "cell_type": "code",
   "execution_count": 42,
   "metadata": {},
   "outputs": [
    {
     "data": {
      "text/plain": [
       "0"
      ]
     },
     "execution_count": 42,
     "metadata": {},
     "output_type": "execute_result"
    }
   ],
   "source": [
    "data['ponds_nearest'].isnull().sum()"
   ]
  },
  {
   "cell_type": "code",
   "execution_count": 43,
   "metadata": {},
   "outputs": [],
   "source": [
    "data['floors_total']=data['floors_total'].astype('float64')"
   ]
  },
  {
   "cell_type": "code",
   "execution_count": 44,
   "metadata": {},
   "outputs": [],
   "source": [
    "data['floors_total']=data.fillna(data['floors_total'].mean())#заполняем средним"
   ]
  },
  {
   "cell_type": "code",
   "execution_count": 45,
   "metadata": {},
   "outputs": [],
   "source": [
    "data['floors_total']=data['floors_total'].astype('int64')"
   ]
  },
  {
   "cell_type": "code",
   "execution_count": 46,
   "metadata": {},
   "outputs": [
    {
     "data": {
      "text/plain": [
       "0"
      ]
     },
     "execution_count": 46,
     "metadata": {},
     "output_type": "execute_result"
    }
   ],
   "source": [
    "data['floors_total'].isnull().sum()"
   ]
  },
  {
   "cell_type": "code",
   "execution_count": 47,
   "metadata": {},
   "outputs": [],
   "source": [
    "data['days_exposition']=data['days_exposition'].astype('float64')\n",
    "data['days_exposition']=data['days_exposition'].fillna(data['days_exposition'].median())\n",
    "data['days_exposition']=data['days_exposition'].astype('int64')"
   ]
  },
  {
   "cell_type": "code",
   "execution_count": 48,
   "metadata": {},
   "outputs": [],
   "source": [
    "data['kitchen_area']=data['kitchen_area'].astype('float64')"
   ]
  },
  {
   "cell_type": "code",
   "execution_count": 49,
   "metadata": {},
   "outputs": [],
   "source": [
    "data['kitchen_area']=data['kitchen_area'].fillna(data['kitchen_area'].median())#заполняем средним"
   ]
  },
  {
   "cell_type": "code",
   "execution_count": 50,
   "metadata": {},
   "outputs": [],
   "source": [
    "data['total_area']=data['total_area'].astype('float64')"
   ]
  },
  {
   "cell_type": "code",
   "execution_count": 51,
   "metadata": {},
   "outputs": [
    {
     "name": "stdout",
     "output_type": "stream",
     "text": [
      "<class 'pandas.core.frame.DataFrame'>\n",
      "Int64Index: 23633 entries, 0 to 23698\n",
      "Data columns (total 24 columns):\n",
      " #   Column                Non-Null Count  Dtype  \n",
      "---  ------                --------------  -----  \n",
      " 0   Unnamed: 0            23633 non-null  int64  \n",
      " 1   total_images          23633 non-null  int64  \n",
      " 2   last_price            23633 non-null  float64\n",
      " 3   total_area            23633 non-null  float64\n",
      " 4   first_day_exposition  23633 non-null  object \n",
      " 5   rooms                 23633 non-null  int64  \n",
      " 6   ceiling_height        23633 non-null  float64\n",
      " 7   floors_total          23633 non-null  int64  \n",
      " 8   living_area           23633 non-null  float64\n",
      " 9   floor                 23633 non-null  int64  \n",
      " 10  is_apartment          23633 non-null  bool   \n",
      " 11  studio                23633 non-null  bool   \n",
      " 12  open_plan             23633 non-null  bool   \n",
      " 13  kitchen_area          23633 non-null  float64\n",
      " 14  balcony               23633 non-null  int64  \n",
      " 15  locality_name         23633 non-null  object \n",
      " 16  airports_nearest      23633 non-null  float64\n",
      " 17  cityCenters_nearest   23633 non-null  float64\n",
      " 18  parks_around3000      23633 non-null  int64  \n",
      " 19  parks_nearest         23633 non-null  float64\n",
      " 20  ponds_around3000      23633 non-null  int64  \n",
      " 21  ponds_nearest         23633 non-null  float64\n",
      " 22  days_exposition       23633 non-null  int64  \n",
      " 23  price_for_m2          23633 non-null  float64\n",
      "dtypes: bool(3), float64(10), int64(9), object(2)\n",
      "memory usage: 4.0+ MB\n"
     ]
    }
   ],
   "source": [
    "data.info()"
   ]
  },
  {
   "cell_type": "markdown",
   "metadata": {},
   "source": [
    "Пропуски заполнены. В таблице осталось 23548 строк из 23699. Всего удалили 151 строк и один столбец, который не учавствует в анализе. Типы данных переведины в верные."
   ]
  },
  {
   "cell_type": "markdown",
   "metadata": {},
   "source": [
    "### Шаг 3. Посчет и добавление в таблицу"
   ]
  },
  {
   "cell_type": "code",
   "execution_count": 52,
   "metadata": {},
   "outputs": [],
   "source": [
    "# Функция категоризации этажей\n",
    "def floor_group(row):\n",
    "    what_floor=row['floor']\n",
    "    total_floor=row['floors_total']\n",
    "    if what_floor==1:\n",
    "        return 'Первый этаж'\n",
    "    if what_floor==total_floor:\n",
    "        return 'Последний этаж'\n",
    "    return 'Другой этаж'"
   ]
  },
  {
   "cell_type": "code",
   "execution_count": 53,
   "metadata": {},
   "outputs": [],
   "source": [
    "floor_position=data.apply(floor_group,axis=1) #заливка дата сета через apply и функцию"
   ]
  },
  {
   "cell_type": "code",
   "execution_count": 54,
   "metadata": {},
   "outputs": [],
   "source": [
    "data['Floor_position']=floor_position # новый столбец"
   ]
  },
  {
   "cell_type": "code",
   "execution_count": 55,
   "metadata": {},
   "outputs": [
    {
     "data": {
      "text/html": [
       "<div>\n",
       "<style scoped>\n",
       "    .dataframe tbody tr th:only-of-type {\n",
       "        vertical-align: middle;\n",
       "    }\n",
       "\n",
       "    .dataframe tbody tr th {\n",
       "        vertical-align: top;\n",
       "    }\n",
       "\n",
       "    .dataframe thead th {\n",
       "        text-align: right;\n",
       "    }\n",
       "</style>\n",
       "<table border=\"1\" class=\"dataframe\">\n",
       "  <thead>\n",
       "    <tr style=\"text-align: right;\">\n",
       "      <th></th>\n",
       "      <th>Unnamed: 0</th>\n",
       "      <th>total_images</th>\n",
       "      <th>last_price</th>\n",
       "      <th>total_area</th>\n",
       "      <th>first_day_exposition</th>\n",
       "      <th>rooms</th>\n",
       "      <th>ceiling_height</th>\n",
       "      <th>floors_total</th>\n",
       "      <th>living_area</th>\n",
       "      <th>floor</th>\n",
       "      <th>is_apartment</th>\n",
       "      <th>studio</th>\n",
       "      <th>open_plan</th>\n",
       "      <th>kitchen_area</th>\n",
       "      <th>balcony</th>\n",
       "      <th>locality_name</th>\n",
       "      <th>airports_nearest</th>\n",
       "      <th>cityCenters_nearest</th>\n",
       "      <th>parks_around3000</th>\n",
       "      <th>parks_nearest</th>\n",
       "      <th>ponds_around3000</th>\n",
       "      <th>ponds_nearest</th>\n",
       "      <th>days_exposition</th>\n",
       "      <th>price_for_m2</th>\n",
       "      <th>Floor_position</th>\n",
       "    </tr>\n",
       "  </thead>\n",
       "  <tbody>\n",
       "    <tr>\n",
       "      <th>0</th>\n",
       "      <td>0</td>\n",
       "      <td>20</td>\n",
       "      <td>13000000.0</td>\n",
       "      <td>108.0</td>\n",
       "      <td>2019-03-07</td>\n",
       "      <td>3</td>\n",
       "      <td>2.70</td>\n",
       "      <td>0</td>\n",
       "      <td>51.000000</td>\n",
       "      <td>8</td>\n",
       "      <td>True</td>\n",
       "      <td>False</td>\n",
       "      <td>False</td>\n",
       "      <td>25.0</td>\n",
       "      <td>0</td>\n",
       "      <td>Санкт-Петербург</td>\n",
       "      <td>18863.0</td>\n",
       "      <td>16028.0</td>\n",
       "      <td>1</td>\n",
       "      <td>482.000000</td>\n",
       "      <td>2</td>\n",
       "      <td>755.000000</td>\n",
       "      <td>95</td>\n",
       "      <td>254901.960784</td>\n",
       "      <td>Другой этаж</td>\n",
       "    </tr>\n",
       "    <tr>\n",
       "      <th>1</th>\n",
       "      <td>1</td>\n",
       "      <td>7</td>\n",
       "      <td>3350000.0</td>\n",
       "      <td>40.4</td>\n",
       "      <td>2018-12-04</td>\n",
       "      <td>1</td>\n",
       "      <td>2.65</td>\n",
       "      <td>1</td>\n",
       "      <td>18.600000</td>\n",
       "      <td>1</td>\n",
       "      <td>True</td>\n",
       "      <td>False</td>\n",
       "      <td>False</td>\n",
       "      <td>11.0</td>\n",
       "      <td>2</td>\n",
       "      <td>посёлок Шушары</td>\n",
       "      <td>12817.0</td>\n",
       "      <td>18603.0</td>\n",
       "      <td>0</td>\n",
       "      <td>490.830729</td>\n",
       "      <td>0</td>\n",
       "      <td>518.043923</td>\n",
       "      <td>81</td>\n",
       "      <td>180107.526882</td>\n",
       "      <td>Первый этаж</td>\n",
       "    </tr>\n",
       "    <tr>\n",
       "      <th>2</th>\n",
       "      <td>2</td>\n",
       "      <td>10</td>\n",
       "      <td>5196000.0</td>\n",
       "      <td>56.0</td>\n",
       "      <td>2015-08-20</td>\n",
       "      <td>2</td>\n",
       "      <td>2.65</td>\n",
       "      <td>2</td>\n",
       "      <td>34.300000</td>\n",
       "      <td>4</td>\n",
       "      <td>True</td>\n",
       "      <td>False</td>\n",
       "      <td>False</td>\n",
       "      <td>8.3</td>\n",
       "      <td>0</td>\n",
       "      <td>Санкт-Петербург</td>\n",
       "      <td>21741.0</td>\n",
       "      <td>13933.0</td>\n",
       "      <td>1</td>\n",
       "      <td>90.000000</td>\n",
       "      <td>2</td>\n",
       "      <td>574.000000</td>\n",
       "      <td>558</td>\n",
       "      <td>151486.880466</td>\n",
       "      <td>Другой этаж</td>\n",
       "    </tr>\n",
       "    <tr>\n",
       "      <th>3</th>\n",
       "      <td>3</td>\n",
       "      <td>0</td>\n",
       "      <td>64900000.0</td>\n",
       "      <td>159.0</td>\n",
       "      <td>2015-07-24</td>\n",
       "      <td>3</td>\n",
       "      <td>2.65</td>\n",
       "      <td>3</td>\n",
       "      <td>301.795172</td>\n",
       "      <td>9</td>\n",
       "      <td>True</td>\n",
       "      <td>False</td>\n",
       "      <td>False</td>\n",
       "      <td>9.1</td>\n",
       "      <td>0</td>\n",
       "      <td>Санкт-Петербург</td>\n",
       "      <td>28098.0</td>\n",
       "      <td>6800.0</td>\n",
       "      <td>2</td>\n",
       "      <td>84.000000</td>\n",
       "      <td>3</td>\n",
       "      <td>234.000000</td>\n",
       "      <td>424</td>\n",
       "      <td>215046.515335</td>\n",
       "      <td>Другой этаж</td>\n",
       "    </tr>\n",
       "    <tr>\n",
       "      <th>4</th>\n",
       "      <td>4</td>\n",
       "      <td>2</td>\n",
       "      <td>10000000.0</td>\n",
       "      <td>100.0</td>\n",
       "      <td>2018-06-19</td>\n",
       "      <td>2</td>\n",
       "      <td>3.03</td>\n",
       "      <td>4</td>\n",
       "      <td>32.000000</td>\n",
       "      <td>13</td>\n",
       "      <td>True</td>\n",
       "      <td>False</td>\n",
       "      <td>False</td>\n",
       "      <td>41.0</td>\n",
       "      <td>0</td>\n",
       "      <td>Санкт-Петербург</td>\n",
       "      <td>31856.0</td>\n",
       "      <td>8098.0</td>\n",
       "      <td>2</td>\n",
       "      <td>112.000000</td>\n",
       "      <td>1</td>\n",
       "      <td>48.000000</td>\n",
       "      <td>121</td>\n",
       "      <td>312500.000000</td>\n",
       "      <td>Другой этаж</td>\n",
       "    </tr>\n",
       "  </tbody>\n",
       "</table>\n",
       "</div>"
      ],
      "text/plain": [
       "   Unnamed: 0  total_images  last_price  total_area first_day_exposition  \\\n",
       "0           0            20  13000000.0       108.0           2019-03-07   \n",
       "1           1             7   3350000.0        40.4           2018-12-04   \n",
       "2           2            10   5196000.0        56.0           2015-08-20   \n",
       "3           3             0  64900000.0       159.0           2015-07-24   \n",
       "4           4             2  10000000.0       100.0           2018-06-19   \n",
       "\n",
       "   rooms  ceiling_height  floors_total  living_area  floor  is_apartment  \\\n",
       "0      3            2.70             0    51.000000      8          True   \n",
       "1      1            2.65             1    18.600000      1          True   \n",
       "2      2            2.65             2    34.300000      4          True   \n",
       "3      3            2.65             3   301.795172      9          True   \n",
       "4      2            3.03             4    32.000000     13          True   \n",
       "\n",
       "   studio  open_plan  kitchen_area  balcony    locality_name  \\\n",
       "0   False      False          25.0        0  Санкт-Петербург   \n",
       "1   False      False          11.0        2   посёлок Шушары   \n",
       "2   False      False           8.3        0  Санкт-Петербург   \n",
       "3   False      False           9.1        0  Санкт-Петербург   \n",
       "4   False      False          41.0        0  Санкт-Петербург   \n",
       "\n",
       "   airports_nearest  cityCenters_nearest  parks_around3000  parks_nearest  \\\n",
       "0           18863.0              16028.0                 1     482.000000   \n",
       "1           12817.0              18603.0                 0     490.830729   \n",
       "2           21741.0              13933.0                 1      90.000000   \n",
       "3           28098.0               6800.0                 2      84.000000   \n",
       "4           31856.0               8098.0                 2     112.000000   \n",
       "\n",
       "   ponds_around3000  ponds_nearest  days_exposition   price_for_m2  \\\n",
       "0                 2     755.000000               95  254901.960784   \n",
       "1                 0     518.043923               81  180107.526882   \n",
       "2                 2     574.000000              558  151486.880466   \n",
       "3                 3     234.000000              424  215046.515335   \n",
       "4                 1      48.000000              121  312500.000000   \n",
       "\n",
       "  Floor_position  \n",
       "0    Другой этаж  \n",
       "1    Первый этаж  \n",
       "2    Другой этаж  \n",
       "3    Другой этаж  \n",
       "4    Другой этаж  "
      ]
     },
     "execution_count": 55,
     "metadata": {},
     "output_type": "execute_result"
    }
   ],
   "source": [
    "data['first_day_exposition']=pd.to_datetime(data['first_day_exposition'],format='%Y.%m.%dT%H:%M:%S')#перевожу в формат даты\n",
    "data['first_day_exposition']=data['first_day_exposition'].dt.round('1D') # округляю до дня\n",
    "data.head()"
   ]
  },
  {
   "cell_type": "code",
   "execution_count": 56,
   "metadata": {},
   "outputs": [],
   "source": [
    "data['week_day']=data['first_day_exposition'].dt.weekday #создаю столбец с днем недели"
   ]
  },
  {
   "cell_type": "code",
   "execution_count": 57,
   "metadata": {},
   "outputs": [],
   "source": [
    "data['month']=data['first_day_exposition'].dt.month #создаю столбец с месяцем"
   ]
  },
  {
   "cell_type": "code",
   "execution_count": 58,
   "metadata": {},
   "outputs": [],
   "source": [
    "data['year']=data['first_day_exposition'].dt.year #создаю столбец с годом"
   ]
  },
  {
   "cell_type": "code",
   "execution_count": 59,
   "metadata": {},
   "outputs": [
    {
     "data": {
      "text/html": [
       "<div>\n",
       "<style scoped>\n",
       "    .dataframe tbody tr th:only-of-type {\n",
       "        vertical-align: middle;\n",
       "    }\n",
       "\n",
       "    .dataframe tbody tr th {\n",
       "        vertical-align: top;\n",
       "    }\n",
       "\n",
       "    .dataframe thead th {\n",
       "        text-align: right;\n",
       "    }\n",
       "</style>\n",
       "<table border=\"1\" class=\"dataframe\">\n",
       "  <thead>\n",
       "    <tr style=\"text-align: right;\">\n",
       "      <th></th>\n",
       "      <th>Unnamed: 0</th>\n",
       "      <th>total_images</th>\n",
       "      <th>last_price</th>\n",
       "      <th>total_area</th>\n",
       "      <th>first_day_exposition</th>\n",
       "      <th>rooms</th>\n",
       "      <th>ceiling_height</th>\n",
       "      <th>floors_total</th>\n",
       "      <th>living_area</th>\n",
       "      <th>floor</th>\n",
       "      <th>is_apartment</th>\n",
       "      <th>studio</th>\n",
       "      <th>open_plan</th>\n",
       "      <th>kitchen_area</th>\n",
       "      <th>balcony</th>\n",
       "      <th>locality_name</th>\n",
       "      <th>airports_nearest</th>\n",
       "      <th>cityCenters_nearest</th>\n",
       "      <th>parks_around3000</th>\n",
       "      <th>parks_nearest</th>\n",
       "      <th>ponds_around3000</th>\n",
       "      <th>ponds_nearest</th>\n",
       "      <th>days_exposition</th>\n",
       "      <th>price_for_m2</th>\n",
       "      <th>Floor_position</th>\n",
       "      <th>week_day</th>\n",
       "      <th>month</th>\n",
       "      <th>year</th>\n",
       "    </tr>\n",
       "  </thead>\n",
       "  <tbody>\n",
       "    <tr>\n",
       "      <th>0</th>\n",
       "      <td>0</td>\n",
       "      <td>20</td>\n",
       "      <td>13000000.0</td>\n",
       "      <td>108.0</td>\n",
       "      <td>2019-03-07</td>\n",
       "      <td>3</td>\n",
       "      <td>2.70</td>\n",
       "      <td>0</td>\n",
       "      <td>51.000000</td>\n",
       "      <td>8</td>\n",
       "      <td>True</td>\n",
       "      <td>False</td>\n",
       "      <td>False</td>\n",
       "      <td>25.0</td>\n",
       "      <td>0</td>\n",
       "      <td>Санкт-Петербург</td>\n",
       "      <td>18863.0</td>\n",
       "      <td>16028.0</td>\n",
       "      <td>1</td>\n",
       "      <td>482.000000</td>\n",
       "      <td>2</td>\n",
       "      <td>755.000000</td>\n",
       "      <td>95</td>\n",
       "      <td>254901.960784</td>\n",
       "      <td>Другой этаж</td>\n",
       "      <td>3</td>\n",
       "      <td>3</td>\n",
       "      <td>2019</td>\n",
       "    </tr>\n",
       "    <tr>\n",
       "      <th>1</th>\n",
       "      <td>1</td>\n",
       "      <td>7</td>\n",
       "      <td>3350000.0</td>\n",
       "      <td>40.4</td>\n",
       "      <td>2018-12-04</td>\n",
       "      <td>1</td>\n",
       "      <td>2.65</td>\n",
       "      <td>1</td>\n",
       "      <td>18.600000</td>\n",
       "      <td>1</td>\n",
       "      <td>True</td>\n",
       "      <td>False</td>\n",
       "      <td>False</td>\n",
       "      <td>11.0</td>\n",
       "      <td>2</td>\n",
       "      <td>посёлок Шушары</td>\n",
       "      <td>12817.0</td>\n",
       "      <td>18603.0</td>\n",
       "      <td>0</td>\n",
       "      <td>490.830729</td>\n",
       "      <td>0</td>\n",
       "      <td>518.043923</td>\n",
       "      <td>81</td>\n",
       "      <td>180107.526882</td>\n",
       "      <td>Первый этаж</td>\n",
       "      <td>1</td>\n",
       "      <td>12</td>\n",
       "      <td>2018</td>\n",
       "    </tr>\n",
       "    <tr>\n",
       "      <th>2</th>\n",
       "      <td>2</td>\n",
       "      <td>10</td>\n",
       "      <td>5196000.0</td>\n",
       "      <td>56.0</td>\n",
       "      <td>2015-08-20</td>\n",
       "      <td>2</td>\n",
       "      <td>2.65</td>\n",
       "      <td>2</td>\n",
       "      <td>34.300000</td>\n",
       "      <td>4</td>\n",
       "      <td>True</td>\n",
       "      <td>False</td>\n",
       "      <td>False</td>\n",
       "      <td>8.3</td>\n",
       "      <td>0</td>\n",
       "      <td>Санкт-Петербург</td>\n",
       "      <td>21741.0</td>\n",
       "      <td>13933.0</td>\n",
       "      <td>1</td>\n",
       "      <td>90.000000</td>\n",
       "      <td>2</td>\n",
       "      <td>574.000000</td>\n",
       "      <td>558</td>\n",
       "      <td>151486.880466</td>\n",
       "      <td>Другой этаж</td>\n",
       "      <td>3</td>\n",
       "      <td>8</td>\n",
       "      <td>2015</td>\n",
       "    </tr>\n",
       "    <tr>\n",
       "      <th>3</th>\n",
       "      <td>3</td>\n",
       "      <td>0</td>\n",
       "      <td>64900000.0</td>\n",
       "      <td>159.0</td>\n",
       "      <td>2015-07-24</td>\n",
       "      <td>3</td>\n",
       "      <td>2.65</td>\n",
       "      <td>3</td>\n",
       "      <td>301.795172</td>\n",
       "      <td>9</td>\n",
       "      <td>True</td>\n",
       "      <td>False</td>\n",
       "      <td>False</td>\n",
       "      <td>9.1</td>\n",
       "      <td>0</td>\n",
       "      <td>Санкт-Петербург</td>\n",
       "      <td>28098.0</td>\n",
       "      <td>6800.0</td>\n",
       "      <td>2</td>\n",
       "      <td>84.000000</td>\n",
       "      <td>3</td>\n",
       "      <td>234.000000</td>\n",
       "      <td>424</td>\n",
       "      <td>215046.515335</td>\n",
       "      <td>Другой этаж</td>\n",
       "      <td>4</td>\n",
       "      <td>7</td>\n",
       "      <td>2015</td>\n",
       "    </tr>\n",
       "    <tr>\n",
       "      <th>4</th>\n",
       "      <td>4</td>\n",
       "      <td>2</td>\n",
       "      <td>10000000.0</td>\n",
       "      <td>100.0</td>\n",
       "      <td>2018-06-19</td>\n",
       "      <td>2</td>\n",
       "      <td>3.03</td>\n",
       "      <td>4</td>\n",
       "      <td>32.000000</td>\n",
       "      <td>13</td>\n",
       "      <td>True</td>\n",
       "      <td>False</td>\n",
       "      <td>False</td>\n",
       "      <td>41.0</td>\n",
       "      <td>0</td>\n",
       "      <td>Санкт-Петербург</td>\n",
       "      <td>31856.0</td>\n",
       "      <td>8098.0</td>\n",
       "      <td>2</td>\n",
       "      <td>112.000000</td>\n",
       "      <td>1</td>\n",
       "      <td>48.000000</td>\n",
       "      <td>121</td>\n",
       "      <td>312500.000000</td>\n",
       "      <td>Другой этаж</td>\n",
       "      <td>1</td>\n",
       "      <td>6</td>\n",
       "      <td>2018</td>\n",
       "    </tr>\n",
       "  </tbody>\n",
       "</table>\n",
       "</div>"
      ],
      "text/plain": [
       "   Unnamed: 0  total_images  last_price  total_area first_day_exposition  \\\n",
       "0           0            20  13000000.0       108.0           2019-03-07   \n",
       "1           1             7   3350000.0        40.4           2018-12-04   \n",
       "2           2            10   5196000.0        56.0           2015-08-20   \n",
       "3           3             0  64900000.0       159.0           2015-07-24   \n",
       "4           4             2  10000000.0       100.0           2018-06-19   \n",
       "\n",
       "   rooms  ceiling_height  floors_total  living_area  floor  is_apartment  \\\n",
       "0      3            2.70             0    51.000000      8          True   \n",
       "1      1            2.65             1    18.600000      1          True   \n",
       "2      2            2.65             2    34.300000      4          True   \n",
       "3      3            2.65             3   301.795172      9          True   \n",
       "4      2            3.03             4    32.000000     13          True   \n",
       "\n",
       "   studio  open_plan  kitchen_area  balcony    locality_name  \\\n",
       "0   False      False          25.0        0  Санкт-Петербург   \n",
       "1   False      False          11.0        2   посёлок Шушары   \n",
       "2   False      False           8.3        0  Санкт-Петербург   \n",
       "3   False      False           9.1        0  Санкт-Петербург   \n",
       "4   False      False          41.0        0  Санкт-Петербург   \n",
       "\n",
       "   airports_nearest  cityCenters_nearest  parks_around3000  parks_nearest  \\\n",
       "0           18863.0              16028.0                 1     482.000000   \n",
       "1           12817.0              18603.0                 0     490.830729   \n",
       "2           21741.0              13933.0                 1      90.000000   \n",
       "3           28098.0               6800.0                 2      84.000000   \n",
       "4           31856.0               8098.0                 2     112.000000   \n",
       "\n",
       "   ponds_around3000  ponds_nearest  days_exposition   price_for_m2  \\\n",
       "0                 2     755.000000               95  254901.960784   \n",
       "1                 0     518.043923               81  180107.526882   \n",
       "2                 2     574.000000              558  151486.880466   \n",
       "3                 3     234.000000              424  215046.515335   \n",
       "4                 1      48.000000              121  312500.000000   \n",
       "\n",
       "  Floor_position  week_day  month  year  \n",
       "0    Другой этаж         3      3  2019  \n",
       "1    Первый этаж         1     12  2018  \n",
       "2    Другой этаж         3      8  2015  \n",
       "3    Другой этаж         4      7  2015  \n",
       "4    Другой этаж         1      6  2018  "
      ]
     },
     "execution_count": 59,
     "metadata": {},
     "output_type": "execute_result"
    }
   ],
   "source": [
    "data.head()"
   ]
  },
  {
   "cell_type": "code",
   "execution_count": 60,
   "metadata": {},
   "outputs": [
    {
     "data": {
      "text/html": [
       "<div>\n",
       "<style scoped>\n",
       "    .dataframe tbody tr th:only-of-type {\n",
       "        vertical-align: middle;\n",
       "    }\n",
       "\n",
       "    .dataframe tbody tr th {\n",
       "        vertical-align: top;\n",
       "    }\n",
       "\n",
       "    .dataframe thead th {\n",
       "        text-align: right;\n",
       "    }\n",
       "</style>\n",
       "<table border=\"1\" class=\"dataframe\">\n",
       "  <thead>\n",
       "    <tr style=\"text-align: right;\">\n",
       "      <th></th>\n",
       "      <th>Unnamed: 0</th>\n",
       "      <th>total_images</th>\n",
       "      <th>last_price</th>\n",
       "      <th>total_area</th>\n",
       "      <th>first_day_exposition</th>\n",
       "      <th>rooms</th>\n",
       "      <th>ceiling_height</th>\n",
       "      <th>floors_total</th>\n",
       "      <th>living_area</th>\n",
       "      <th>floor</th>\n",
       "      <th>is_apartment</th>\n",
       "      <th>studio</th>\n",
       "      <th>open_plan</th>\n",
       "      <th>kitchen_area</th>\n",
       "      <th>balcony</th>\n",
       "      <th>locality_name</th>\n",
       "      <th>airports_nearest</th>\n",
       "      <th>cityCenters_nearest</th>\n",
       "      <th>parks_around3000</th>\n",
       "      <th>parks_nearest</th>\n",
       "      <th>ponds_around3000</th>\n",
       "      <th>ponds_nearest</th>\n",
       "      <th>days_exposition</th>\n",
       "      <th>price_for_m2</th>\n",
       "      <th>Floor_position</th>\n",
       "      <th>week_day</th>\n",
       "      <th>month</th>\n",
       "      <th>year</th>\n",
       "      <th>living_area/total_area</th>\n",
       "    </tr>\n",
       "  </thead>\n",
       "  <tbody>\n",
       "    <tr>\n",
       "      <th>0</th>\n",
       "      <td>0</td>\n",
       "      <td>20</td>\n",
       "      <td>13000000.0</td>\n",
       "      <td>108.0</td>\n",
       "      <td>2019-03-07</td>\n",
       "      <td>3</td>\n",
       "      <td>2.70</td>\n",
       "      <td>0</td>\n",
       "      <td>51.000000</td>\n",
       "      <td>8</td>\n",
       "      <td>True</td>\n",
       "      <td>False</td>\n",
       "      <td>False</td>\n",
       "      <td>25.0</td>\n",
       "      <td>0</td>\n",
       "      <td>Санкт-Петербург</td>\n",
       "      <td>18863.0</td>\n",
       "      <td>16028.0</td>\n",
       "      <td>1</td>\n",
       "      <td>482.000000</td>\n",
       "      <td>2</td>\n",
       "      <td>755.000000</td>\n",
       "      <td>95</td>\n",
       "      <td>254901.960784</td>\n",
       "      <td>Другой этаж</td>\n",
       "      <td>3</td>\n",
       "      <td>3</td>\n",
       "      <td>2019</td>\n",
       "      <td>0.472222</td>\n",
       "    </tr>\n",
       "    <tr>\n",
       "      <th>1</th>\n",
       "      <td>1</td>\n",
       "      <td>7</td>\n",
       "      <td>3350000.0</td>\n",
       "      <td>40.4</td>\n",
       "      <td>2018-12-04</td>\n",
       "      <td>1</td>\n",
       "      <td>2.65</td>\n",
       "      <td>1</td>\n",
       "      <td>18.600000</td>\n",
       "      <td>1</td>\n",
       "      <td>True</td>\n",
       "      <td>False</td>\n",
       "      <td>False</td>\n",
       "      <td>11.0</td>\n",
       "      <td>2</td>\n",
       "      <td>посёлок Шушары</td>\n",
       "      <td>12817.0</td>\n",
       "      <td>18603.0</td>\n",
       "      <td>0</td>\n",
       "      <td>490.830729</td>\n",
       "      <td>0</td>\n",
       "      <td>518.043923</td>\n",
       "      <td>81</td>\n",
       "      <td>180107.526882</td>\n",
       "      <td>Первый этаж</td>\n",
       "      <td>1</td>\n",
       "      <td>12</td>\n",
       "      <td>2018</td>\n",
       "      <td>0.460396</td>\n",
       "    </tr>\n",
       "    <tr>\n",
       "      <th>2</th>\n",
       "      <td>2</td>\n",
       "      <td>10</td>\n",
       "      <td>5196000.0</td>\n",
       "      <td>56.0</td>\n",
       "      <td>2015-08-20</td>\n",
       "      <td>2</td>\n",
       "      <td>2.65</td>\n",
       "      <td>2</td>\n",
       "      <td>34.300000</td>\n",
       "      <td>4</td>\n",
       "      <td>True</td>\n",
       "      <td>False</td>\n",
       "      <td>False</td>\n",
       "      <td>8.3</td>\n",
       "      <td>0</td>\n",
       "      <td>Санкт-Петербург</td>\n",
       "      <td>21741.0</td>\n",
       "      <td>13933.0</td>\n",
       "      <td>1</td>\n",
       "      <td>90.000000</td>\n",
       "      <td>2</td>\n",
       "      <td>574.000000</td>\n",
       "      <td>558</td>\n",
       "      <td>151486.880466</td>\n",
       "      <td>Другой этаж</td>\n",
       "      <td>3</td>\n",
       "      <td>8</td>\n",
       "      <td>2015</td>\n",
       "      <td>0.612500</td>\n",
       "    </tr>\n",
       "    <tr>\n",
       "      <th>3</th>\n",
       "      <td>3</td>\n",
       "      <td>0</td>\n",
       "      <td>64900000.0</td>\n",
       "      <td>159.0</td>\n",
       "      <td>2015-07-24</td>\n",
       "      <td>3</td>\n",
       "      <td>2.65</td>\n",
       "      <td>3</td>\n",
       "      <td>301.795172</td>\n",
       "      <td>9</td>\n",
       "      <td>True</td>\n",
       "      <td>False</td>\n",
       "      <td>False</td>\n",
       "      <td>9.1</td>\n",
       "      <td>0</td>\n",
       "      <td>Санкт-Петербург</td>\n",
       "      <td>28098.0</td>\n",
       "      <td>6800.0</td>\n",
       "      <td>2</td>\n",
       "      <td>84.000000</td>\n",
       "      <td>3</td>\n",
       "      <td>234.000000</td>\n",
       "      <td>424</td>\n",
       "      <td>215046.515335</td>\n",
       "      <td>Другой этаж</td>\n",
       "      <td>4</td>\n",
       "      <td>7</td>\n",
       "      <td>2015</td>\n",
       "      <td>1.898083</td>\n",
       "    </tr>\n",
       "    <tr>\n",
       "      <th>4</th>\n",
       "      <td>4</td>\n",
       "      <td>2</td>\n",
       "      <td>10000000.0</td>\n",
       "      <td>100.0</td>\n",
       "      <td>2018-06-19</td>\n",
       "      <td>2</td>\n",
       "      <td>3.03</td>\n",
       "      <td>4</td>\n",
       "      <td>32.000000</td>\n",
       "      <td>13</td>\n",
       "      <td>True</td>\n",
       "      <td>False</td>\n",
       "      <td>False</td>\n",
       "      <td>41.0</td>\n",
       "      <td>0</td>\n",
       "      <td>Санкт-Петербург</td>\n",
       "      <td>31856.0</td>\n",
       "      <td>8098.0</td>\n",
       "      <td>2</td>\n",
       "      <td>112.000000</td>\n",
       "      <td>1</td>\n",
       "      <td>48.000000</td>\n",
       "      <td>121</td>\n",
       "      <td>312500.000000</td>\n",
       "      <td>Другой этаж</td>\n",
       "      <td>1</td>\n",
       "      <td>6</td>\n",
       "      <td>2018</td>\n",
       "      <td>0.320000</td>\n",
       "    </tr>\n",
       "  </tbody>\n",
       "</table>\n",
       "</div>"
      ],
      "text/plain": [
       "   Unnamed: 0  total_images  last_price  total_area first_day_exposition  \\\n",
       "0           0            20  13000000.0       108.0           2019-03-07   \n",
       "1           1             7   3350000.0        40.4           2018-12-04   \n",
       "2           2            10   5196000.0        56.0           2015-08-20   \n",
       "3           3             0  64900000.0       159.0           2015-07-24   \n",
       "4           4             2  10000000.0       100.0           2018-06-19   \n",
       "\n",
       "   rooms  ceiling_height  floors_total  living_area  floor  is_apartment  \\\n",
       "0      3            2.70             0    51.000000      8          True   \n",
       "1      1            2.65             1    18.600000      1          True   \n",
       "2      2            2.65             2    34.300000      4          True   \n",
       "3      3            2.65             3   301.795172      9          True   \n",
       "4      2            3.03             4    32.000000     13          True   \n",
       "\n",
       "   studio  open_plan  kitchen_area  balcony    locality_name  \\\n",
       "0   False      False          25.0        0  Санкт-Петербург   \n",
       "1   False      False          11.0        2   посёлок Шушары   \n",
       "2   False      False           8.3        0  Санкт-Петербург   \n",
       "3   False      False           9.1        0  Санкт-Петербург   \n",
       "4   False      False          41.0        0  Санкт-Петербург   \n",
       "\n",
       "   airports_nearest  cityCenters_nearest  parks_around3000  parks_nearest  \\\n",
       "0           18863.0              16028.0                 1     482.000000   \n",
       "1           12817.0              18603.0                 0     490.830729   \n",
       "2           21741.0              13933.0                 1      90.000000   \n",
       "3           28098.0               6800.0                 2      84.000000   \n",
       "4           31856.0               8098.0                 2     112.000000   \n",
       "\n",
       "   ponds_around3000  ponds_nearest  days_exposition   price_for_m2  \\\n",
       "0                 2     755.000000               95  254901.960784   \n",
       "1                 0     518.043923               81  180107.526882   \n",
       "2                 2     574.000000              558  151486.880466   \n",
       "3                 3     234.000000              424  215046.515335   \n",
       "4                 1      48.000000              121  312500.000000   \n",
       "\n",
       "  Floor_position  week_day  month  year  living_area/total_area  \n",
       "0    Другой этаж         3      3  2019                0.472222  \n",
       "1    Первый этаж         1     12  2018                0.460396  \n",
       "2    Другой этаж         3      8  2015                0.612500  \n",
       "3    Другой этаж         4      7  2015                1.898083  \n",
       "4    Другой этаж         1      6  2018                0.320000  "
      ]
     },
     "execution_count": 60,
     "metadata": {},
     "output_type": "execute_result"
    }
   ],
   "source": [
    "data['living_area/total_area']=data['living_area']/data['total_area'] #  отношение  жилой к общей площади\n",
    "data.head()"
   ]
  },
  {
   "cell_type": "code",
   "execution_count": 61,
   "metadata": {},
   "outputs": [
    {
     "data": {
      "text/html": [
       "<div>\n",
       "<style scoped>\n",
       "    .dataframe tbody tr th:only-of-type {\n",
       "        vertical-align: middle;\n",
       "    }\n",
       "\n",
       "    .dataframe tbody tr th {\n",
       "        vertical-align: top;\n",
       "    }\n",
       "\n",
       "    .dataframe thead th {\n",
       "        text-align: right;\n",
       "    }\n",
       "</style>\n",
       "<table border=\"1\" class=\"dataframe\">\n",
       "  <thead>\n",
       "    <tr style=\"text-align: right;\">\n",
       "      <th></th>\n",
       "      <th>Unnamed: 0</th>\n",
       "      <th>total_images</th>\n",
       "      <th>last_price</th>\n",
       "      <th>total_area</th>\n",
       "      <th>first_day_exposition</th>\n",
       "      <th>rooms</th>\n",
       "      <th>ceiling_height</th>\n",
       "      <th>floors_total</th>\n",
       "      <th>living_area</th>\n",
       "      <th>floor</th>\n",
       "      <th>is_apartment</th>\n",
       "      <th>studio</th>\n",
       "      <th>open_plan</th>\n",
       "      <th>kitchen_area</th>\n",
       "      <th>balcony</th>\n",
       "      <th>locality_name</th>\n",
       "      <th>airports_nearest</th>\n",
       "      <th>cityCenters_nearest</th>\n",
       "      <th>parks_around3000</th>\n",
       "      <th>parks_nearest</th>\n",
       "      <th>ponds_around3000</th>\n",
       "      <th>ponds_nearest</th>\n",
       "      <th>days_exposition</th>\n",
       "      <th>price_for_m2</th>\n",
       "      <th>Floor_position</th>\n",
       "      <th>week_day</th>\n",
       "      <th>month</th>\n",
       "      <th>year</th>\n",
       "      <th>living_area/total_area</th>\n",
       "      <th>kitchen_area/living_area</th>\n",
       "    </tr>\n",
       "  </thead>\n",
       "  <tbody>\n",
       "    <tr>\n",
       "      <th>0</th>\n",
       "      <td>0</td>\n",
       "      <td>20</td>\n",
       "      <td>13000000.0</td>\n",
       "      <td>108.0</td>\n",
       "      <td>2019-03-07</td>\n",
       "      <td>3</td>\n",
       "      <td>2.70</td>\n",
       "      <td>0</td>\n",
       "      <td>51.000000</td>\n",
       "      <td>8</td>\n",
       "      <td>True</td>\n",
       "      <td>False</td>\n",
       "      <td>False</td>\n",
       "      <td>25.0</td>\n",
       "      <td>0</td>\n",
       "      <td>Санкт-Петербург</td>\n",
       "      <td>18863.0</td>\n",
       "      <td>16028.0</td>\n",
       "      <td>1</td>\n",
       "      <td>482.000000</td>\n",
       "      <td>2</td>\n",
       "      <td>755.000000</td>\n",
       "      <td>95</td>\n",
       "      <td>254901.960784</td>\n",
       "      <td>Другой этаж</td>\n",
       "      <td>3</td>\n",
       "      <td>3</td>\n",
       "      <td>2019</td>\n",
       "      <td>0.472222</td>\n",
       "      <td>0.490196</td>\n",
       "    </tr>\n",
       "    <tr>\n",
       "      <th>1</th>\n",
       "      <td>1</td>\n",
       "      <td>7</td>\n",
       "      <td>3350000.0</td>\n",
       "      <td>40.4</td>\n",
       "      <td>2018-12-04</td>\n",
       "      <td>1</td>\n",
       "      <td>2.65</td>\n",
       "      <td>1</td>\n",
       "      <td>18.600000</td>\n",
       "      <td>1</td>\n",
       "      <td>True</td>\n",
       "      <td>False</td>\n",
       "      <td>False</td>\n",
       "      <td>11.0</td>\n",
       "      <td>2</td>\n",
       "      <td>посёлок Шушары</td>\n",
       "      <td>12817.0</td>\n",
       "      <td>18603.0</td>\n",
       "      <td>0</td>\n",
       "      <td>490.830729</td>\n",
       "      <td>0</td>\n",
       "      <td>518.043923</td>\n",
       "      <td>81</td>\n",
       "      <td>180107.526882</td>\n",
       "      <td>Первый этаж</td>\n",
       "      <td>1</td>\n",
       "      <td>12</td>\n",
       "      <td>2018</td>\n",
       "      <td>0.460396</td>\n",
       "      <td>0.591398</td>\n",
       "    </tr>\n",
       "    <tr>\n",
       "      <th>2</th>\n",
       "      <td>2</td>\n",
       "      <td>10</td>\n",
       "      <td>5196000.0</td>\n",
       "      <td>56.0</td>\n",
       "      <td>2015-08-20</td>\n",
       "      <td>2</td>\n",
       "      <td>2.65</td>\n",
       "      <td>2</td>\n",
       "      <td>34.300000</td>\n",
       "      <td>4</td>\n",
       "      <td>True</td>\n",
       "      <td>False</td>\n",
       "      <td>False</td>\n",
       "      <td>8.3</td>\n",
       "      <td>0</td>\n",
       "      <td>Санкт-Петербург</td>\n",
       "      <td>21741.0</td>\n",
       "      <td>13933.0</td>\n",
       "      <td>1</td>\n",
       "      <td>90.000000</td>\n",
       "      <td>2</td>\n",
       "      <td>574.000000</td>\n",
       "      <td>558</td>\n",
       "      <td>151486.880466</td>\n",
       "      <td>Другой этаж</td>\n",
       "      <td>3</td>\n",
       "      <td>8</td>\n",
       "      <td>2015</td>\n",
       "      <td>0.612500</td>\n",
       "      <td>0.241983</td>\n",
       "    </tr>\n",
       "    <tr>\n",
       "      <th>3</th>\n",
       "      <td>3</td>\n",
       "      <td>0</td>\n",
       "      <td>64900000.0</td>\n",
       "      <td>159.0</td>\n",
       "      <td>2015-07-24</td>\n",
       "      <td>3</td>\n",
       "      <td>2.65</td>\n",
       "      <td>3</td>\n",
       "      <td>301.795172</td>\n",
       "      <td>9</td>\n",
       "      <td>True</td>\n",
       "      <td>False</td>\n",
       "      <td>False</td>\n",
       "      <td>9.1</td>\n",
       "      <td>0</td>\n",
       "      <td>Санкт-Петербург</td>\n",
       "      <td>28098.0</td>\n",
       "      <td>6800.0</td>\n",
       "      <td>2</td>\n",
       "      <td>84.000000</td>\n",
       "      <td>3</td>\n",
       "      <td>234.000000</td>\n",
       "      <td>424</td>\n",
       "      <td>215046.515335</td>\n",
       "      <td>Другой этаж</td>\n",
       "      <td>4</td>\n",
       "      <td>7</td>\n",
       "      <td>2015</td>\n",
       "      <td>1.898083</td>\n",
       "      <td>0.030153</td>\n",
       "    </tr>\n",
       "    <tr>\n",
       "      <th>4</th>\n",
       "      <td>4</td>\n",
       "      <td>2</td>\n",
       "      <td>10000000.0</td>\n",
       "      <td>100.0</td>\n",
       "      <td>2018-06-19</td>\n",
       "      <td>2</td>\n",
       "      <td>3.03</td>\n",
       "      <td>4</td>\n",
       "      <td>32.000000</td>\n",
       "      <td>13</td>\n",
       "      <td>True</td>\n",
       "      <td>False</td>\n",
       "      <td>False</td>\n",
       "      <td>41.0</td>\n",
       "      <td>0</td>\n",
       "      <td>Санкт-Петербург</td>\n",
       "      <td>31856.0</td>\n",
       "      <td>8098.0</td>\n",
       "      <td>2</td>\n",
       "      <td>112.000000</td>\n",
       "      <td>1</td>\n",
       "      <td>48.000000</td>\n",
       "      <td>121</td>\n",
       "      <td>312500.000000</td>\n",
       "      <td>Другой этаж</td>\n",
       "      <td>1</td>\n",
       "      <td>6</td>\n",
       "      <td>2018</td>\n",
       "      <td>0.320000</td>\n",
       "      <td>1.281250</td>\n",
       "    </tr>\n",
       "  </tbody>\n",
       "</table>\n",
       "</div>"
      ],
      "text/plain": [
       "   Unnamed: 0  total_images  last_price  total_area first_day_exposition  \\\n",
       "0           0            20  13000000.0       108.0           2019-03-07   \n",
       "1           1             7   3350000.0        40.4           2018-12-04   \n",
       "2           2            10   5196000.0        56.0           2015-08-20   \n",
       "3           3             0  64900000.0       159.0           2015-07-24   \n",
       "4           4             2  10000000.0       100.0           2018-06-19   \n",
       "\n",
       "   rooms  ceiling_height  floors_total  living_area  floor  is_apartment  \\\n",
       "0      3            2.70             0    51.000000      8          True   \n",
       "1      1            2.65             1    18.600000      1          True   \n",
       "2      2            2.65             2    34.300000      4          True   \n",
       "3      3            2.65             3   301.795172      9          True   \n",
       "4      2            3.03             4    32.000000     13          True   \n",
       "\n",
       "   studio  open_plan  kitchen_area  balcony    locality_name  \\\n",
       "0   False      False          25.0        0  Санкт-Петербург   \n",
       "1   False      False          11.0        2   посёлок Шушары   \n",
       "2   False      False           8.3        0  Санкт-Петербург   \n",
       "3   False      False           9.1        0  Санкт-Петербург   \n",
       "4   False      False          41.0        0  Санкт-Петербург   \n",
       "\n",
       "   airports_nearest  cityCenters_nearest  parks_around3000  parks_nearest  \\\n",
       "0           18863.0              16028.0                 1     482.000000   \n",
       "1           12817.0              18603.0                 0     490.830729   \n",
       "2           21741.0              13933.0                 1      90.000000   \n",
       "3           28098.0               6800.0                 2      84.000000   \n",
       "4           31856.0               8098.0                 2     112.000000   \n",
       "\n",
       "   ponds_around3000  ponds_nearest  days_exposition   price_for_m2  \\\n",
       "0                 2     755.000000               95  254901.960784   \n",
       "1                 0     518.043923               81  180107.526882   \n",
       "2                 2     574.000000              558  151486.880466   \n",
       "3                 3     234.000000              424  215046.515335   \n",
       "4                 1      48.000000              121  312500.000000   \n",
       "\n",
       "  Floor_position  week_day  month  year  living_area/total_area  \\\n",
       "0    Другой этаж         3      3  2019                0.472222   \n",
       "1    Первый этаж         1     12  2018                0.460396   \n",
       "2    Другой этаж         3      8  2015                0.612500   \n",
       "3    Другой этаж         4      7  2015                1.898083   \n",
       "4    Другой этаж         1      6  2018                0.320000   \n",
       "\n",
       "   kitchen_area/living_area  \n",
       "0                  0.490196  \n",
       "1                  0.591398  \n",
       "2                  0.241983  \n",
       "3                  0.030153  \n",
       "4                  1.281250  "
      ]
     },
     "execution_count": 61,
     "metadata": {},
     "output_type": "execute_result"
    }
   ],
   "source": [
    "data['kitchen_area/living_area']=data['kitchen_area']/data['living_area'] #отношение площади кухни к жилой площади\n",
    "data.head()"
   ]
  },
  {
   "cell_type": "markdown",
   "metadata": {},
   "source": [
    "### Шаг 4. Исследовательский анализ данных:"
   ]
  },
  {
   "cell_type": "code",
   "execution_count": 62,
   "metadata": {},
   "outputs": [],
   "source": [
    "import matplotlib.pyplot as plt # импорт библиотеки для графиков"
   ]
  },
  {
   "cell_type": "code",
   "execution_count": 63,
   "metadata": {},
   "outputs": [
    {
     "data": {
      "text/plain": [
       "<matplotlib.axes._subplots.AxesSubplot at 0x1218cec90>"
      ]
     },
     "execution_count": 63,
     "metadata": {},
     "output_type": "execute_result"
    },
    {
     "data": {
      "image/png": "[encoded data removed]",
      "text/plain": [
       "<Figure size 432x288 with 1 Axes>"
      ]
     },
     "metadata": {
      "needs_background": "light"
     },
     "output_type": "display_data"
    }
   ],
   "source": [
    "data['last_price'].hist(bins=100,range=(0,30000000))"
   ]
  },
  {
   "cell_type": "markdown",
   "metadata": {},
   "source": [
    "Из гистораммы видно, что больше всего квартир продается за 3-4 млн. руб"
   ]
  },
  {
   "cell_type": "code",
   "execution_count": 64,
   "metadata": {},
   "outputs": [
    {
     "data": {
      "text/plain": [
       "<matplotlib.axes._subplots.AxesSubplot at 0x121bf9c90>"
      ]
     },
     "execution_count": 64,
     "metadata": {},
     "output_type": "execute_result"
    },
    {
     "data": {
      "image/png": "[encoded data removed]",
      "text/plain": [
       "<Figure size 432x288 with 1 Axes>"
      ]
     },
     "metadata": {
      "needs_background": "light"
     },
     "output_type": "display_data"
    }
   ],
   "source": [
    "data['total_area'].hist(bins=100,range=(0,400))"
   ]
  },
  {
   "cell_type": "markdown",
   "metadata": {},
   "source": [
    "Больше всего продается квартир площадью 45-49 м.кв"
   ]
  },
  {
   "cell_type": "code",
   "execution_count": 65,
   "metadata": {},
   "outputs": [
    {
     "data": {
      "text/plain": [
       "<matplotlib.axes._subplots.AxesSubplot at 0x10d015a10>"
      ]
     },
     "execution_count": 65,
     "metadata": {},
     "output_type": "execute_result"
    },
    {
     "data": {
      "image/png": "[encoded data removed]",
      "text/plain": [
       "<Figure size 432x288 with 1 Axes>"
      ]
     },
     "metadata": {
      "needs_background": "light"
     },
     "output_type": "display_data"
    }
   ],
   "source": [
    "data['rooms'].hist(bins=50,range=(0,7))"
   ]
  },
  {
   "cell_type": "markdown",
   "metadata": {},
   "source": [
    "Больше всего продается 1,2 комнатных квартир "
   ]
  },
  {
   "cell_type": "code",
   "execution_count": 66,
   "metadata": {},
   "outputs": [
    {
     "data": {
      "text/plain": [
       "<matplotlib.axes._subplots.AxesSubplot at 0x121e98110>"
      ]
     },
     "execution_count": 66,
     "metadata": {},
     "output_type": "execute_result"
    },
    {
     "data": {
      "image/png": "[encoded data removed]",
      "text/plain": [
       "<Figure size 432x288 with 1 Axes>"
      ]
     },
     "metadata": {
      "needs_background": "light"
     },
     "output_type": "display_data"
    }
   ],
   "source": [
    "data['ceiling_height'].hist(bins=100,range=(2.3,4))"
   ]
  },
  {
   "cell_type": "markdown",
   "metadata": {},
   "source": [
    "Больше всего продаж квартир с высотой потока 2.6 м"
   ]
  },
  {
   "cell_type": "code",
   "execution_count": 67,
   "metadata": {},
   "outputs": [
    {
     "data": {
      "text/plain": [
       "<matplotlib.axes._subplots.AxesSubplot at 0x120e7c750>"
      ]
     },
     "execution_count": 67,
     "metadata": {},
     "output_type": "execute_result"
    },
    {
     "data": {
      "image/png": "[encoded data removed]",
      "text/plain": [
       "<Figure size 432x288 with 1 Axes>"
      ]
     },
     "metadata": {
      "needs_background": "light"
     },
     "output_type": "display_data"
    }
   ],
   "source": [
    "data['days_exposition'].hist(bins=30,range=(0,500))"
   ]
  },
  {
   "cell_type": "markdown",
   "metadata": {},
   "source": [
    "Больше всего продаж квартир на 95 день"
   ]
  },
  {
   "cell_type": "code",
   "execution_count": 68,
   "metadata": {},
   "outputs": [
    {
     "data": {
      "text/plain": [
       "count    23633.000000\n",
       "mean       169.237930\n",
       "std        206.516127\n",
       "min          1.000000\n",
       "25%         45.000000\n",
       "50%         95.000000\n",
       "75%        198.000000\n",
       "max       1580.000000\n",
       "Name: days_exposition, dtype: float64"
      ]
     },
     "execution_count": 68,
     "metadata": {},
     "output_type": "execute_result"
    }
   ],
   "source": [
    "data['days_exposition'].describe() #Исследуем data"
   ]
  },
  {
   "cell_type": "code",
   "execution_count": 69,
   "metadata": {},
   "outputs": [
    {
     "data": {
      "image/png": "[encoded data removed]",
      "text/plain": [
       "<Figure size 432x288 with 1 Axes>"
      ]
     },
     "metadata": {
      "needs_background": "light"
     },
     "output_type": "display_data"
    }
   ],
   "source": [
    "plt.ylim(0,500)\n",
    "data.boxplot(column='days_exposition') \n",
    "plt.show()"
   ]
  },
  {
   "cell_type": "markdown",
   "metadata": {},
   "source": [
    "Исследуя гистограмму продаж и диаграмму размаха можно видеть, что среднее время продажи квартиры 95 дней. Большая часть значений лежит за диапазоном 420 дней (1.5 межквартального размаха, добавленного к третьему квартилю). Это выглядит правдоподобным. Самыми быстрыми продажами можно назвать продажу в один день. Самой долгой продажей (если не брать во внимание выбросы, которые лежат за 1.5 межквартального размаха, добавленного в третьей квартилии)-427 дней. "
   ]
  },
  {
   "cell_type": "code",
   "execution_count": 70,
   "metadata": {},
   "outputs": [
    {
     "data": {
      "image/png": "[encoded data removed]",
      "text/plain": [
       "<Figure size 432x288 with 1 Axes>"
      ]
     },
     "metadata": {
      "needs_background": "light"
     },
     "output_type": "display_data"
    }
   ],
   "source": [
    "plt.ylim(0,1700)\n",
    "data.boxplot(column='days_exposition')\n",
    "plt.show()"
   ]
  },
  {
   "cell_type": "markdown",
   "metadata": {},
   "source": [
    "Посторил диаграмму размаха со всеми выбросами "
   ]
  },
  {
   "cell_type": "code",
   "execution_count": 71,
   "metadata": {},
   "outputs": [
    {
     "data": {
      "text/html": [
       "<div>\n",
       "<style scoped>\n",
       "    .dataframe tbody tr th:only-of-type {\n",
       "        vertical-align: middle;\n",
       "    }\n",
       "\n",
       "    .dataframe tbody tr th {\n",
       "        vertical-align: top;\n",
       "    }\n",
       "\n",
       "    .dataframe thead th {\n",
       "        text-align: right;\n",
       "    }\n",
       "</style>\n",
       "<table border=\"1\" class=\"dataframe\">\n",
       "  <thead>\n",
       "    <tr style=\"text-align: right;\">\n",
       "      <th></th>\n",
       "      <th>Unnamed: 0</th>\n",
       "      <th>total_images</th>\n",
       "      <th>last_price</th>\n",
       "      <th>total_area</th>\n",
       "      <th>first_day_exposition</th>\n",
       "      <th>rooms</th>\n",
       "      <th>ceiling_height</th>\n",
       "      <th>floors_total</th>\n",
       "      <th>living_area</th>\n",
       "      <th>floor</th>\n",
       "      <th>is_apartment</th>\n",
       "      <th>studio</th>\n",
       "      <th>open_plan</th>\n",
       "      <th>kitchen_area</th>\n",
       "      <th>balcony</th>\n",
       "      <th>locality_name</th>\n",
       "      <th>airports_nearest</th>\n",
       "      <th>cityCenters_nearest</th>\n",
       "      <th>parks_around3000</th>\n",
       "      <th>parks_nearest</th>\n",
       "      <th>ponds_around3000</th>\n",
       "      <th>ponds_nearest</th>\n",
       "      <th>days_exposition</th>\n",
       "      <th>price_for_m2</th>\n",
       "      <th>Floor_position</th>\n",
       "      <th>week_day</th>\n",
       "      <th>month</th>\n",
       "      <th>year</th>\n",
       "      <th>living_area/total_area</th>\n",
       "      <th>kitchen_area/living_area</th>\n",
       "    </tr>\n",
       "  </thead>\n",
       "  <tbody>\n",
       "    <tr>\n",
       "      <th>18843</th>\n",
       "      <td>18843</td>\n",
       "      <td>11</td>\n",
       "      <td>3500000.0</td>\n",
       "      <td>48.20</td>\n",
       "      <td>2014-12-15</td>\n",
       "      <td>2</td>\n",
       "      <td>2.50</td>\n",
       "      <td>18843</td>\n",
       "      <td>27.40</td>\n",
       "      <td>2</td>\n",
       "      <td>True</td>\n",
       "      <td>False</td>\n",
       "      <td>False</td>\n",
       "      <td>7.70</td>\n",
       "      <td>3</td>\n",
       "      <td>деревня Новое Девяткино</td>\n",
       "      <td>28878.607504</td>\n",
       "      <td>14234.907335</td>\n",
       "      <td>0</td>\n",
       "      <td>490.830729</td>\n",
       "      <td>0</td>\n",
       "      <td>518.043923</td>\n",
       "      <td>1580</td>\n",
       "      <td>127737.226277</td>\n",
       "      <td>Другой этаж</td>\n",
       "      <td>0</td>\n",
       "      <td>12</td>\n",
       "      <td>2014</td>\n",
       "      <td>0.568465</td>\n",
       "      <td>0.281022</td>\n",
       "    </tr>\n",
       "    <tr>\n",
       "      <th>1109</th>\n",
       "      <td>1109</td>\n",
       "      <td>1</td>\n",
       "      <td>34878556.0</td>\n",
       "      <td>95.80</td>\n",
       "      <td>2014-12-09</td>\n",
       "      <td>2</td>\n",
       "      <td>2.65</td>\n",
       "      <td>1109</td>\n",
       "      <td>58.30</td>\n",
       "      <td>5</td>\n",
       "      <td>True</td>\n",
       "      <td>False</td>\n",
       "      <td>False</td>\n",
       "      <td>20.00</td>\n",
       "      <td>1</td>\n",
       "      <td>Санкт-Петербург</td>\n",
       "      <td>21860.000000</td>\n",
       "      <td>318.000000</td>\n",
       "      <td>2</td>\n",
       "      <td>160.000000</td>\n",
       "      <td>3</td>\n",
       "      <td>569.000000</td>\n",
       "      <td>1572</td>\n",
       "      <td>598259.965695</td>\n",
       "      <td>Другой этаж</td>\n",
       "      <td>1</td>\n",
       "      <td>12</td>\n",
       "      <td>2014</td>\n",
       "      <td>0.608559</td>\n",
       "      <td>0.343053</td>\n",
       "    </tr>\n",
       "    <tr>\n",
       "      <th>9553</th>\n",
       "      <td>9553</td>\n",
       "      <td>11</td>\n",
       "      <td>10600000.0</td>\n",
       "      <td>80.00</td>\n",
       "      <td>2014-12-09</td>\n",
       "      <td>3</td>\n",
       "      <td>2.85</td>\n",
       "      <td>9553</td>\n",
       "      <td>44.00</td>\n",
       "      <td>9</td>\n",
       "      <td>True</td>\n",
       "      <td>False</td>\n",
       "      <td>False</td>\n",
       "      <td>15.00</td>\n",
       "      <td>0</td>\n",
       "      <td>Санкт-Петербург</td>\n",
       "      <td>17101.000000</td>\n",
       "      <td>17110.000000</td>\n",
       "      <td>0</td>\n",
       "      <td>490.830729</td>\n",
       "      <td>0</td>\n",
       "      <td>518.043923</td>\n",
       "      <td>1553</td>\n",
       "      <td>240909.090909</td>\n",
       "      <td>Другой этаж</td>\n",
       "      <td>1</td>\n",
       "      <td>12</td>\n",
       "      <td>2014</td>\n",
       "      <td>0.550000</td>\n",
       "      <td>0.340909</td>\n",
       "    </tr>\n",
       "    <tr>\n",
       "      <th>1885</th>\n",
       "      <td>1885</td>\n",
       "      <td>2</td>\n",
       "      <td>13300000.0</td>\n",
       "      <td>79.60</td>\n",
       "      <td>2014-12-09</td>\n",
       "      <td>2</td>\n",
       "      <td>3.00</td>\n",
       "      <td>1885</td>\n",
       "      <td>42.70</td>\n",
       "      <td>7</td>\n",
       "      <td>True</td>\n",
       "      <td>False</td>\n",
       "      <td>False</td>\n",
       "      <td>18.00</td>\n",
       "      <td>0</td>\n",
       "      <td>Санкт-Петербург</td>\n",
       "      <td>39393.000000</td>\n",
       "      <td>11096.000000</td>\n",
       "      <td>1</td>\n",
       "      <td>537.000000</td>\n",
       "      <td>0</td>\n",
       "      <td>518.043923</td>\n",
       "      <td>1513</td>\n",
       "      <td>311475.409836</td>\n",
       "      <td>Другой этаж</td>\n",
       "      <td>1</td>\n",
       "      <td>12</td>\n",
       "      <td>2014</td>\n",
       "      <td>0.536432</td>\n",
       "      <td>0.421546</td>\n",
       "    </tr>\n",
       "    <tr>\n",
       "      <th>6691</th>\n",
       "      <td>6691</td>\n",
       "      <td>3</td>\n",
       "      <td>4400000.0</td>\n",
       "      <td>42.98</td>\n",
       "      <td>2014-12-12</td>\n",
       "      <td>1</td>\n",
       "      <td>2.65</td>\n",
       "      <td>6691</td>\n",
       "      <td>18.72</td>\n",
       "      <td>1</td>\n",
       "      <td>True</td>\n",
       "      <td>False</td>\n",
       "      <td>False</td>\n",
       "      <td>11.31</td>\n",
       "      <td>0</td>\n",
       "      <td>Пушкин</td>\n",
       "      <td>19715.000000</td>\n",
       "      <td>30358.000000</td>\n",
       "      <td>1</td>\n",
       "      <td>439.000000</td>\n",
       "      <td>3</td>\n",
       "      <td>232.000000</td>\n",
       "      <td>1512</td>\n",
       "      <td>235042.735043</td>\n",
       "      <td>Первый этаж</td>\n",
       "      <td>4</td>\n",
       "      <td>12</td>\n",
       "      <td>2014</td>\n",
       "      <td>0.435551</td>\n",
       "      <td>0.604167</td>\n",
       "    </tr>\n",
       "  </tbody>\n",
       "</table>\n",
       "</div>"
      ],
      "text/plain": [
       "       Unnamed: 0  total_images  last_price  total_area first_day_exposition  \\\n",
       "18843       18843            11   3500000.0       48.20           2014-12-15   \n",
       "1109         1109             1  34878556.0       95.80           2014-12-09   \n",
       "9553         9553            11  10600000.0       80.00           2014-12-09   \n",
       "1885         1885             2  13300000.0       79.60           2014-12-09   \n",
       "6691         6691             3   4400000.0       42.98           2014-12-12   \n",
       "\n",
       "       rooms  ceiling_height  floors_total  living_area  floor  is_apartment  \\\n",
       "18843      2            2.50         18843        27.40      2          True   \n",
       "1109       2            2.65          1109        58.30      5          True   \n",
       "9553       3            2.85          9553        44.00      9          True   \n",
       "1885       2            3.00          1885        42.70      7          True   \n",
       "6691       1            2.65          6691        18.72      1          True   \n",
       "\n",
       "       studio  open_plan  kitchen_area  balcony            locality_name  \\\n",
       "18843   False      False          7.70        3  деревня Новое Девяткино   \n",
       "1109    False      False         20.00        1          Санкт-Петербург   \n",
       "9553    False      False         15.00        0          Санкт-Петербург   \n",
       "1885    False      False         18.00        0          Санкт-Петербург   \n",
       "6691    False      False         11.31        0                   Пушкин   \n",
       "\n",
       "       airports_nearest  cityCenters_nearest  parks_around3000  parks_nearest  \\\n",
       "18843      28878.607504         14234.907335                 0     490.830729   \n",
       "1109       21860.000000           318.000000                 2     160.000000   \n",
       "9553       17101.000000         17110.000000                 0     490.830729   \n",
       "1885       39393.000000         11096.000000                 1     537.000000   \n",
       "6691       19715.000000         30358.000000                 1     439.000000   \n",
       "\n",
       "       ponds_around3000  ponds_nearest  days_exposition   price_for_m2  \\\n",
       "18843                 0     518.043923             1580  127737.226277   \n",
       "1109                  3     569.000000             1572  598259.965695   \n",
       "9553                  0     518.043923             1553  240909.090909   \n",
       "1885                  0     518.043923             1513  311475.409836   \n",
       "6691                  3     232.000000             1512  235042.735043   \n",
       "\n",
       "      Floor_position  week_day  month  year  living_area/total_area  \\\n",
       "18843    Другой этаж         0     12  2014                0.568465   \n",
       "1109     Другой этаж         1     12  2014                0.608559   \n",
       "9553     Другой этаж         1     12  2014                0.550000   \n",
       "1885     Другой этаж         1     12  2014                0.536432   \n",
       "6691     Первый этаж         4     12  2014                0.435551   \n",
       "\n",
       "       kitchen_area/living_area  \n",
       "18843                  0.281022  \n",
       "1109                   0.343053  \n",
       "9553                   0.340909  \n",
       "1885                   0.421546  \n",
       "6691                   0.604167  "
      ]
     },
     "execution_count": 71,
     "metadata": {},
     "output_type": "execute_result"
    }
   ],
   "source": [
    "data.sort_values(by='days_exposition',ascending=False).head()"
   ]
  },
  {
   "cell_type": "code",
   "execution_count": 72,
   "metadata": {},
   "outputs": [],
   "source": [
    "current_days_exposition_date=data.query('days_exposition<420')# Убрали выбросы находящиеся за 1.5 межквартальным интервалом, добавленного к Q3"
   ]
  },
  {
   "cell_type": "code",
   "execution_count": 73,
   "metadata": {},
   "outputs": [
    {
     "data": {
      "text/plain": [
       "<matplotlib.axes._subplots.AxesSubplot at 0x11e154ed0>"
      ]
     },
     "execution_count": 73,
     "metadata": {},
     "output_type": "execute_result"
    },
    {
     "data": {
      "image/png": "[encoded data removed]",
      "text/plain": [
       "<Figure size 432x288 with 1 Axes>"
      ]
     },
     "metadata": {
      "needs_background": "light"
     },
     "output_type": "display_data"
    }
   ],
   "source": [
    "current_days_exposition_date['days_exposition'].hist(bins=100,range=(0,500))"
   ]
  },
  {
   "cell_type": "markdown",
   "metadata": {},
   "source": [
    "Убрал выбросы находящиеся за 1.5 межквартальным интервалом, добавленного к Q3. Всего наблюдается 4 пика. Самый большой пик- 95 дней, есть еще пики 50 дней, 70 дней и 10 дней. Не могу сказать, что это артифакты, тк реально это возможно.\n",
    "Большая часть выбросов лежит за диапазоном 420 дней и они стремяться к 0. Принял решение от них избавиться. "
   ]
  },
  {
   "cell_type": "code",
   "execution_count": 74,
   "metadata": {},
   "outputs": [
    {
     "data": {
      "text/plain": [
       "count    2.121500e+04\n",
       "mean     6.377967e+06\n",
       "std      1.078410e+07\n",
       "min      1.219000e+04\n",
       "25%      3.400000e+06\n",
       "50%      4.600000e+06\n",
       "75%      6.650000e+06\n",
       "max      7.630000e+08\n",
       "Name: last_price, dtype: float64"
      ]
     },
     "execution_count": 74,
     "metadata": {},
     "output_type": "execute_result"
    }
   ],
   "source": [
    "current_days_exposition_date['last_price'].describe()"
   ]
  },
  {
   "cell_type": "code",
   "execution_count": 75,
   "metadata": {},
   "outputs": [
    {
     "data": {
      "image/png": "[encoded data removed]",
      "text/plain": [
       "<Figure size 432x288 with 1 Axes>"
      ]
     },
     "metadata": {
      "needs_background": "light"
     },
     "output_type": "display_data"
    }
   ],
   "source": [
    "plt.ylim(100000,15000000)\n",
    "current_days_exposition_date.boxplot(column='last_price')\n",
    "plt.show()"
   ]
  },
  {
   "cell_type": "markdown",
   "metadata": {},
   "source": [
    "На диаграмме размаха видно, что в выбросы попадают квартиры свыше 11 млн. руб"
   ]
  },
  {
   "cell_type": "code",
   "execution_count": 76,
   "metadata": {},
   "outputs": [
    {
     "data": {
      "text/html": [
       "<div>\n",
       "<style scoped>\n",
       "    .dataframe tbody tr th:only-of-type {\n",
       "        vertical-align: middle;\n",
       "    }\n",
       "\n",
       "    .dataframe tbody tr th {\n",
       "        vertical-align: top;\n",
       "    }\n",
       "\n",
       "    .dataframe thead th {\n",
       "        text-align: right;\n",
       "    }\n",
       "</style>\n",
       "<table border=\"1\" class=\"dataframe\">\n",
       "  <thead>\n",
       "    <tr style=\"text-align: right;\">\n",
       "      <th></th>\n",
       "      <th>Unnamed: 0</th>\n",
       "      <th>total_images</th>\n",
       "      <th>last_price</th>\n",
       "      <th>total_area</th>\n",
       "      <th>first_day_exposition</th>\n",
       "      <th>rooms</th>\n",
       "      <th>ceiling_height</th>\n",
       "      <th>floors_total</th>\n",
       "      <th>living_area</th>\n",
       "      <th>floor</th>\n",
       "      <th>is_apartment</th>\n",
       "      <th>studio</th>\n",
       "      <th>open_plan</th>\n",
       "      <th>kitchen_area</th>\n",
       "      <th>balcony</th>\n",
       "      <th>locality_name</th>\n",
       "      <th>airports_nearest</th>\n",
       "      <th>cityCenters_nearest</th>\n",
       "      <th>parks_around3000</th>\n",
       "      <th>parks_nearest</th>\n",
       "      <th>ponds_around3000</th>\n",
       "      <th>ponds_nearest</th>\n",
       "      <th>days_exposition</th>\n",
       "      <th>price_for_m2</th>\n",
       "      <th>Floor_position</th>\n",
       "      <th>week_day</th>\n",
       "      <th>month</th>\n",
       "      <th>year</th>\n",
       "      <th>living_area/total_area</th>\n",
       "      <th>kitchen_area/living_area</th>\n",
       "    </tr>\n",
       "  </thead>\n",
       "  <tbody>\n",
       "    <tr>\n",
       "      <th>8793</th>\n",
       "      <td>8793</td>\n",
       "      <td>7</td>\n",
       "      <td>12190.0</td>\n",
       "      <td>109.0</td>\n",
       "      <td>2019-03-20</td>\n",
       "      <td>2</td>\n",
       "      <td>2.75</td>\n",
       "      <td>8793</td>\n",
       "      <td>32.000000</td>\n",
       "      <td>25</td>\n",
       "      <td>True</td>\n",
       "      <td>False</td>\n",
       "      <td>False</td>\n",
       "      <td>40.5</td>\n",
       "      <td>0</td>\n",
       "      <td>Санкт-Петербург</td>\n",
       "      <td>36421.000000</td>\n",
       "      <td>9176.000000</td>\n",
       "      <td>1</td>\n",
       "      <td>805.000000</td>\n",
       "      <td>0</td>\n",
       "      <td>518.043923</td>\n",
       "      <td>8</td>\n",
       "      <td>380.937500</td>\n",
       "      <td>Другой этаж</td>\n",
       "      <td>2</td>\n",
       "      <td>3</td>\n",
       "      <td>2019</td>\n",
       "      <td>0.293578</td>\n",
       "      <td>1.265625</td>\n",
       "    </tr>\n",
       "    <tr>\n",
       "      <th>17456</th>\n",
       "      <td>17456</td>\n",
       "      <td>7</td>\n",
       "      <td>430000.0</td>\n",
       "      <td>30.4</td>\n",
       "      <td>2019-04-22</td>\n",
       "      <td>1</td>\n",
       "      <td>2.65</td>\n",
       "      <td>17456</td>\n",
       "      <td>16.000000</td>\n",
       "      <td>1</td>\n",
       "      <td>True</td>\n",
       "      <td>False</td>\n",
       "      <td>False</td>\n",
       "      <td>6.0</td>\n",
       "      <td>0</td>\n",
       "      <td>Сланцы</td>\n",
       "      <td>28878.607504</td>\n",
       "      <td>14234.907335</td>\n",
       "      <td>0</td>\n",
       "      <td>490.830729</td>\n",
       "      <td>0</td>\n",
       "      <td>518.043923</td>\n",
       "      <td>95</td>\n",
       "      <td>26875.000000</td>\n",
       "      <td>Первый этаж</td>\n",
       "      <td>0</td>\n",
       "      <td>4</td>\n",
       "      <td>2019</td>\n",
       "      <td>0.526316</td>\n",
       "      <td>0.375000</td>\n",
       "    </tr>\n",
       "    <tr>\n",
       "      <th>14911</th>\n",
       "      <td>14911</td>\n",
       "      <td>5</td>\n",
       "      <td>430000.0</td>\n",
       "      <td>54.0</td>\n",
       "      <td>2018-06-26</td>\n",
       "      <td>2</td>\n",
       "      <td>2.65</td>\n",
       "      <td>14911</td>\n",
       "      <td>17.916667</td>\n",
       "      <td>3</td>\n",
       "      <td>True</td>\n",
       "      <td>False</td>\n",
       "      <td>False</td>\n",
       "      <td>9.1</td>\n",
       "      <td>0</td>\n",
       "      <td>посёлок станции Свирь</td>\n",
       "      <td>28878.607504</td>\n",
       "      <td>14234.907335</td>\n",
       "      <td>0</td>\n",
       "      <td>490.830729</td>\n",
       "      <td>0</td>\n",
       "      <td>518.043923</td>\n",
       "      <td>44</td>\n",
       "      <td>24000.000000</td>\n",
       "      <td>Другой этаж</td>\n",
       "      <td>1</td>\n",
       "      <td>6</td>\n",
       "      <td>2018</td>\n",
       "      <td>0.331790</td>\n",
       "      <td>0.507907</td>\n",
       "    </tr>\n",
       "    <tr>\n",
       "      <th>16274</th>\n",
       "      <td>16274</td>\n",
       "      <td>18</td>\n",
       "      <td>440000.0</td>\n",
       "      <td>40.0</td>\n",
       "      <td>2018-07-10</td>\n",
       "      <td>1</td>\n",
       "      <td>2.65</td>\n",
       "      <td>16274</td>\n",
       "      <td>29.626667</td>\n",
       "      <td>1</td>\n",
       "      <td>True</td>\n",
       "      <td>False</td>\n",
       "      <td>False</td>\n",
       "      <td>9.1</td>\n",
       "      <td>0</td>\n",
       "      <td>деревня Старополье</td>\n",
       "      <td>28878.607504</td>\n",
       "      <td>14234.907335</td>\n",
       "      <td>0</td>\n",
       "      <td>490.830729</td>\n",
       "      <td>0</td>\n",
       "      <td>518.043923</td>\n",
       "      <td>45</td>\n",
       "      <td>14851.485149</td>\n",
       "      <td>Первый этаж</td>\n",
       "      <td>1</td>\n",
       "      <td>7</td>\n",
       "      <td>2018</td>\n",
       "      <td>0.740667</td>\n",
       "      <td>0.307156</td>\n",
       "    </tr>\n",
       "    <tr>\n",
       "      <th>5698</th>\n",
       "      <td>5698</td>\n",
       "      <td>7</td>\n",
       "      <td>450000.0</td>\n",
       "      <td>42.0</td>\n",
       "      <td>2017-07-31</td>\n",
       "      <td>2</td>\n",
       "      <td>2.65</td>\n",
       "      <td>5698</td>\n",
       "      <td>23.000000</td>\n",
       "      <td>1</td>\n",
       "      <td>True</td>\n",
       "      <td>False</td>\n",
       "      <td>False</td>\n",
       "      <td>5.8</td>\n",
       "      <td>0</td>\n",
       "      <td>городской посёлок Будогощь</td>\n",
       "      <td>28878.607504</td>\n",
       "      <td>14234.907335</td>\n",
       "      <td>0</td>\n",
       "      <td>490.830729</td>\n",
       "      <td>0</td>\n",
       "      <td>518.043923</td>\n",
       "      <td>233</td>\n",
       "      <td>19565.217391</td>\n",
       "      <td>Первый этаж</td>\n",
       "      <td>0</td>\n",
       "      <td>7</td>\n",
       "      <td>2017</td>\n",
       "      <td>0.547619</td>\n",
       "      <td>0.252174</td>\n",
       "    </tr>\n",
       "    <tr>\n",
       "      <th>...</th>\n",
       "      <td>...</td>\n",
       "      <td>...</td>\n",
       "      <td>...</td>\n",
       "      <td>...</td>\n",
       "      <td>...</td>\n",
       "      <td>...</td>\n",
       "      <td>...</td>\n",
       "      <td>...</td>\n",
       "      <td>...</td>\n",
       "      <td>...</td>\n",
       "      <td>...</td>\n",
       "      <td>...</td>\n",
       "      <td>...</td>\n",
       "      <td>...</td>\n",
       "      <td>...</td>\n",
       "      <td>...</td>\n",
       "      <td>...</td>\n",
       "      <td>...</td>\n",
       "      <td>...</td>\n",
       "      <td>...</td>\n",
       "      <td>...</td>\n",
       "      <td>...</td>\n",
       "      <td>...</td>\n",
       "      <td>...</td>\n",
       "      <td>...</td>\n",
       "      <td>...</td>\n",
       "      <td>...</td>\n",
       "      <td>...</td>\n",
       "      <td>...</td>\n",
       "      <td>...</td>\n",
       "    </tr>\n",
       "    <tr>\n",
       "      <th>13646</th>\n",
       "      <td>13646</td>\n",
       "      <td>8</td>\n",
       "      <td>770000.0</td>\n",
       "      <td>45.0</td>\n",
       "      <td>2018-03-28</td>\n",
       "      <td>2</td>\n",
       "      <td>2.50</td>\n",
       "      <td>13646</td>\n",
       "      <td>29.000000</td>\n",
       "      <td>2</td>\n",
       "      <td>True</td>\n",
       "      <td>False</td>\n",
       "      <td>False</td>\n",
       "      <td>7.0</td>\n",
       "      <td>0</td>\n",
       "      <td>Сланцы</td>\n",
       "      <td>28878.607504</td>\n",
       "      <td>14234.907335</td>\n",
       "      <td>0</td>\n",
       "      <td>490.830729</td>\n",
       "      <td>0</td>\n",
       "      <td>518.043923</td>\n",
       "      <td>211</td>\n",
       "      <td>26551.724138</td>\n",
       "      <td>Другой этаж</td>\n",
       "      <td>2</td>\n",
       "      <td>3</td>\n",
       "      <td>2018</td>\n",
       "      <td>0.644444</td>\n",
       "      <td>0.241379</td>\n",
       "    </tr>\n",
       "    <tr>\n",
       "      <th>18985</th>\n",
       "      <td>18985</td>\n",
       "      <td>20</td>\n",
       "      <td>770000.0</td>\n",
       "      <td>32.0</td>\n",
       "      <td>2018-07-05</td>\n",
       "      <td>1</td>\n",
       "      <td>2.65</td>\n",
       "      <td>18985</td>\n",
       "      <td>18.000000</td>\n",
       "      <td>2</td>\n",
       "      <td>True</td>\n",
       "      <td>False</td>\n",
       "      <td>False</td>\n",
       "      <td>8.0</td>\n",
       "      <td>0</td>\n",
       "      <td>Сланцы</td>\n",
       "      <td>28878.607504</td>\n",
       "      <td>14234.907335</td>\n",
       "      <td>0</td>\n",
       "      <td>490.830729</td>\n",
       "      <td>0</td>\n",
       "      <td>518.043923</td>\n",
       "      <td>54</td>\n",
       "      <td>42777.777778</td>\n",
       "      <td>Другой этаж</td>\n",
       "      <td>3</td>\n",
       "      <td>7</td>\n",
       "      <td>2018</td>\n",
       "      <td>0.562500</td>\n",
       "      <td>0.444444</td>\n",
       "    </tr>\n",
       "    <tr>\n",
       "      <th>2209</th>\n",
       "      <td>2209</td>\n",
       "      <td>12</td>\n",
       "      <td>770000.0</td>\n",
       "      <td>33.0</td>\n",
       "      <td>2016-06-29</td>\n",
       "      <td>1</td>\n",
       "      <td>2.50</td>\n",
       "      <td>2209</td>\n",
       "      <td>17.000000</td>\n",
       "      <td>5</td>\n",
       "      <td>False</td>\n",
       "      <td>False</td>\n",
       "      <td>False</td>\n",
       "      <td>6.5</td>\n",
       "      <td>1</td>\n",
       "      <td>Сланцы</td>\n",
       "      <td>28878.607504</td>\n",
       "      <td>14234.907335</td>\n",
       "      <td>0</td>\n",
       "      <td>490.830729</td>\n",
       "      <td>0</td>\n",
       "      <td>518.043923</td>\n",
       "      <td>45</td>\n",
       "      <td>45294.117647</td>\n",
       "      <td>Другой этаж</td>\n",
       "      <td>2</td>\n",
       "      <td>6</td>\n",
       "      <td>2016</td>\n",
       "      <td>0.515152</td>\n",
       "      <td>0.382353</td>\n",
       "    </tr>\n",
       "    <tr>\n",
       "      <th>7442</th>\n",
       "      <td>7442</td>\n",
       "      <td>7</td>\n",
       "      <td>777000.0</td>\n",
       "      <td>44.0</td>\n",
       "      <td>2019-01-01</td>\n",
       "      <td>2</td>\n",
       "      <td>2.50</td>\n",
       "      <td>7442</td>\n",
       "      <td>30.000000</td>\n",
       "      <td>2</td>\n",
       "      <td>True</td>\n",
       "      <td>False</td>\n",
       "      <td>False</td>\n",
       "      <td>8.0</td>\n",
       "      <td>1</td>\n",
       "      <td>деревня Ялгино</td>\n",
       "      <td>28878.607504</td>\n",
       "      <td>14234.907335</td>\n",
       "      <td>0</td>\n",
       "      <td>490.830729</td>\n",
       "      <td>0</td>\n",
       "      <td>518.043923</td>\n",
       "      <td>45</td>\n",
       "      <td>25900.000000</td>\n",
       "      <td>Другой этаж</td>\n",
       "      <td>1</td>\n",
       "      <td>1</td>\n",
       "      <td>2019</td>\n",
       "      <td>0.681818</td>\n",
       "      <td>0.266667</td>\n",
       "    </tr>\n",
       "    <tr>\n",
       "      <th>7077</th>\n",
       "      <td>7077</td>\n",
       "      <td>6</td>\n",
       "      <td>780000.0</td>\n",
       "      <td>47.4</td>\n",
       "      <td>2019-04-05</td>\n",
       "      <td>2</td>\n",
       "      <td>2.50</td>\n",
       "      <td>7077</td>\n",
       "      <td>32.500000</td>\n",
       "      <td>3</td>\n",
       "      <td>True</td>\n",
       "      <td>False</td>\n",
       "      <td>False</td>\n",
       "      <td>6.0</td>\n",
       "      <td>1</td>\n",
       "      <td>Сланцы</td>\n",
       "      <td>28878.607504</td>\n",
       "      <td>14234.907335</td>\n",
       "      <td>0</td>\n",
       "      <td>490.830729</td>\n",
       "      <td>0</td>\n",
       "      <td>518.043923</td>\n",
       "      <td>95</td>\n",
       "      <td>24000.000000</td>\n",
       "      <td>Другой этаж</td>\n",
       "      <td>4</td>\n",
       "      <td>4</td>\n",
       "      <td>2019</td>\n",
       "      <td>0.685654</td>\n",
       "      <td>0.184615</td>\n",
       "    </tr>\n",
       "  </tbody>\n",
       "</table>\n",
       "<p>100 rows × 30 columns</p>\n",
       "</div>"
      ],
      "text/plain": [
       "       Unnamed: 0  total_images  last_price  total_area first_day_exposition  \\\n",
       "8793         8793             7     12190.0       109.0           2019-03-20   \n",
       "17456       17456             7    430000.0        30.4           2019-04-22   \n",
       "14911       14911             5    430000.0        54.0           2018-06-26   \n",
       "16274       16274            18    440000.0        40.0           2018-07-10   \n",
       "5698         5698             7    450000.0        42.0           2017-07-31   \n",
       "...           ...           ...         ...         ...                  ...   \n",
       "13646       13646             8    770000.0        45.0           2018-03-28   \n",
       "18985       18985            20    770000.0        32.0           2018-07-05   \n",
       "2209         2209            12    770000.0        33.0           2016-06-29   \n",
       "7442         7442             7    777000.0        44.0           2019-01-01   \n",
       "7077         7077             6    780000.0        47.4           2019-04-05   \n",
       "\n",
       "       rooms  ceiling_height  floors_total  living_area  floor  is_apartment  \\\n",
       "8793       2            2.75          8793    32.000000     25          True   \n",
       "17456      1            2.65         17456    16.000000      1          True   \n",
       "14911      2            2.65         14911    17.916667      3          True   \n",
       "16274      1            2.65         16274    29.626667      1          True   \n",
       "5698       2            2.65          5698    23.000000      1          True   \n",
       "...      ...             ...           ...          ...    ...           ...   \n",
       "13646      2            2.50         13646    29.000000      2          True   \n",
       "18985      1            2.65         18985    18.000000      2          True   \n",
       "2209       1            2.50          2209    17.000000      5         False   \n",
       "7442       2            2.50          7442    30.000000      2          True   \n",
       "7077       2            2.50          7077    32.500000      3          True   \n",
       "\n",
       "       studio  open_plan  kitchen_area  balcony               locality_name  \\\n",
       "8793    False      False          40.5        0             Санкт-Петербург   \n",
       "17456   False      False           6.0        0                      Сланцы   \n",
       "14911   False      False           9.1        0       посёлок станции Свирь   \n",
       "16274   False      False           9.1        0          деревня Старополье   \n",
       "5698    False      False           5.8        0  городской посёлок Будогощь   \n",
       "...       ...        ...           ...      ...                         ...   \n",
       "13646   False      False           7.0        0                      Сланцы   \n",
       "18985   False      False           8.0        0                      Сланцы   \n",
       "2209    False      False           6.5        1                      Сланцы   \n",
       "7442    False      False           8.0        1              деревня Ялгино   \n",
       "7077    False      False           6.0        1                      Сланцы   \n",
       "\n",
       "       airports_nearest  cityCenters_nearest  parks_around3000  parks_nearest  \\\n",
       "8793       36421.000000          9176.000000                 1     805.000000   \n",
       "17456      28878.607504         14234.907335                 0     490.830729   \n",
       "14911      28878.607504         14234.907335                 0     490.830729   \n",
       "16274      28878.607504         14234.907335                 0     490.830729   \n",
       "5698       28878.607504         14234.907335                 0     490.830729   \n",
       "...                 ...                  ...               ...            ...   \n",
       "13646      28878.607504         14234.907335                 0     490.830729   \n",
       "18985      28878.607504         14234.907335                 0     490.830729   \n",
       "2209       28878.607504         14234.907335                 0     490.830729   \n",
       "7442       28878.607504         14234.907335                 0     490.830729   \n",
       "7077       28878.607504         14234.907335                 0     490.830729   \n",
       "\n",
       "       ponds_around3000  ponds_nearest  days_exposition  price_for_m2  \\\n",
       "8793                  0     518.043923                8    380.937500   \n",
       "17456                 0     518.043923               95  26875.000000   \n",
       "14911                 0     518.043923               44  24000.000000   \n",
       "16274                 0     518.043923               45  14851.485149   \n",
       "5698                  0     518.043923              233  19565.217391   \n",
       "...                 ...            ...              ...           ...   \n",
       "13646                 0     518.043923              211  26551.724138   \n",
       "18985                 0     518.043923               54  42777.777778   \n",
       "2209                  0     518.043923               45  45294.117647   \n",
       "7442                  0     518.043923               45  25900.000000   \n",
       "7077                  0     518.043923               95  24000.000000   \n",
       "\n",
       "      Floor_position  week_day  month  year  living_area/total_area  \\\n",
       "8793     Другой этаж         2      3  2019                0.293578   \n",
       "17456    Первый этаж         0      4  2019                0.526316   \n",
       "14911    Другой этаж         1      6  2018                0.331790   \n",
       "16274    Первый этаж         1      7  2018                0.740667   \n",
       "5698     Первый этаж         0      7  2017                0.547619   \n",
       "...              ...       ...    ...   ...                     ...   \n",
       "13646    Другой этаж         2      3  2018                0.644444   \n",
       "18985    Другой этаж         3      7  2018                0.562500   \n",
       "2209     Другой этаж         2      6  2016                0.515152   \n",
       "7442     Другой этаж         1      1  2019                0.681818   \n",
       "7077     Другой этаж         4      4  2019                0.685654   \n",
       "\n",
       "       kitchen_area/living_area  \n",
       "8793                   1.265625  \n",
       "17456                  0.375000  \n",
       "14911                  0.507907  \n",
       "16274                  0.307156  \n",
       "5698                   0.252174  \n",
       "...                         ...  \n",
       "13646                  0.241379  \n",
       "18985                  0.444444  \n",
       "2209                   0.382353  \n",
       "7442                   0.266667  \n",
       "7077                   0.184615  \n",
       "\n",
       "[100 rows x 30 columns]"
      ]
     },
     "execution_count": 76,
     "metadata": {},
     "output_type": "execute_result"
    }
   ],
   "source": [
    "current_days_exposition_date.sort_values(by='last_price',ascending=True).head(100)"
   ]
  },
  {
   "cell_type": "markdown",
   "metadata": {},
   "source": [
    "Смотрю самую дорогую квартиру. Данные правдивые. Такие квартиры существуют. Так как их единицы, то думаю, что можно убрать значения начиная с 1.5 межквартального интервала+Q3= 11*10^6, правее все стремится к нулю. Также кажутся неправильными значения меньшие 1500000 за квартиру. Тоже уберу."
   ]
  },
  {
   "cell_type": "code",
   "execution_count": 77,
   "metadata": {},
   "outputs": [],
   "source": [
    "current_days_exposition_date=current_days_exposition_date.query('1500000<last_price<11*10**6') # Убрал выбросы квартир свыше 11 млн. руб"
   ]
  },
  {
   "cell_type": "code",
   "execution_count": 78,
   "metadata": {},
   "outputs": [
    {
     "data": {
      "text/plain": [
       "<matplotlib.axes._subplots.AxesSubplot at 0x122269a50>"
      ]
     },
     "execution_count": 78,
     "metadata": {},
     "output_type": "execute_result"
    },
    {
     "data": {
      "image/png": "[encoded data removed]",
      "text/plain": [
       "<Figure size 2160x360 with 1 Axes>"
      ]
     },
     "metadata": {
      "needs_background": "light"
     },
     "output_type": "display_data"
    }
   ],
   "source": [
    "(current_days_exposition_date\n",
    "    .sort_values(by='last_price',ascending=True)\n",
    "    .plot(x='last_price',y='total_area',grid=True, style='o-',figsize=(30,5))\n",
    ")\n"
   ]
  },
  {
   "cell_type": "code",
   "execution_count": 79,
   "metadata": {},
   "outputs": [
    {
     "data": {
      "text/plain": [
       "0.6867904217566922"
      ]
     },
     "execution_count": 79,
     "metadata": {},
     "output_type": "execute_result"
    }
   ],
   "source": [
    "current_days_exposition_date['last_price'].corr(current_days_exposition_date['total_area'])"
   ]
  },
  {
   "cell_type": "markdown",
   "metadata": {},
   "source": [
    "При увеличении площади, увеличивается стоимость квартиры. Стоимость квартиры коррелирует с площадью на коэфф Пирсона 0.68. Значит сильно зависят эти величины друг от друга. Положительная корреляция "
   ]
  },
  {
   "cell_type": "code",
   "execution_count": 80,
   "metadata": {},
   "outputs": [
    {
     "data": {
      "text/plain": [
       "<matplotlib.axes._subplots.AxesSubplot at 0x12046f510>"
      ]
     },
     "execution_count": 80,
     "metadata": {},
     "output_type": "execute_result"
    },
    {
     "data": {
      "image/png": "[encoded data removed]",
      "text/plain": [
       "<Figure size 1080x576 with 1 Axes>"
      ]
     },
     "metadata": {
      "needs_background": "light"
     },
     "output_type": "display_data"
    }
   ],
   "source": [
    "(current_days_exposition_date\n",
    "     .groupby('rooms')['last_price'].median()\n",
    "    # .sort_values(by='rooms',ascending=True)\n",
    "     .plot(x='rooms',y='last_price',style='o-',grid=True,figsize=(15,8),alpha=1)\n",
    ")"
   ]
  },
  {
   "cell_type": "markdown",
   "metadata": {},
   "source": [
    "На этом графике видно, что при увеливении кол-ва комнат, увеличивается стоимость. С кол-вом комнат 7, она ниже, так- как мало данных и значение медианной цены вносит свою корректировку. "
   ]
  },
  {
   "cell_type": "code",
   "execution_count": 81,
   "metadata": {},
   "outputs": [
    {
     "data": {
      "text/plain": [
       "0.4498929902274057"
      ]
     },
     "execution_count": 81,
     "metadata": {},
     "output_type": "execute_result"
    }
   ],
   "source": [
    "current_days_exposition_date['last_price'].corr(current_days_exposition_date[\"rooms\"])"
   ]
  },
  {
   "cell_type": "markdown",
   "metadata": {},
   "source": [
    "Коэф Пирсона 0.45. Положительная корреляция цены и кол-ва комнат"
   ]
  },
  {
   "cell_type": "code",
   "execution_count": 82,
   "metadata": {},
   "outputs": [
    {
     "data": {
      "text/plain": [
       "<matplotlib.axes._subplots.AxesSubplot at 0x123bbfdd0>"
      ]
     },
     "execution_count": 82,
     "metadata": {},
     "output_type": "execute_result"
    },
    {
     "data": {
      "image/png": "[encoded data removed]",
      "text/plain": [
       "<Figure size 432x288 with 1 Axes>"
      ]
     },
     "metadata": {
      "needs_background": "light"
     },
     "output_type": "display_data"
    }
   ],
   "source": [
    "(current_days_exposition_date\n",
    "    .groupby('Floor_position')['last_price'].median()\n",
    "    .plot(x='Floor_position',y='last_price',kind='bar')\n",
    ")\n"
   ]
  },
  {
   "cell_type": "code",
   "execution_count": 83,
   "metadata": {},
   "outputs": [
    {
     "data": {
      "text/plain": [
       "0.11252527565891492"
      ]
     },
     "execution_count": 83,
     "metadata": {},
     "output_type": "execute_result"
    }
   ],
   "source": [
    "current_days_exposition_date['floor'].corr(current_days_exposition_date['last_price'])"
   ]
  },
  {
   "cell_type": "markdown",
   "metadata": {},
   "source": [
    "Из гистограммы видно, что цена не сильно зависит от этажа. Видно, что цена за первый этаж немного ниже. Эти выводы подтверждает коэф Пирсона= 0.11 положительный "
   ]
  },
  {
   "cell_type": "code",
   "execution_count": 84,
   "metadata": {},
   "outputs": [
    {
     "data": {
      "text/plain": [
       "<matplotlib.axes._subplots.AxesSubplot at 0x120444c90>"
      ]
     },
     "execution_count": 84,
     "metadata": {},
     "output_type": "execute_result"
    },
    {
     "data": {
      "image/png": "[encoded data removed]",
      "text/plain": [
       "<Figure size 432x288 with 1 Axes>"
      ]
     },
     "metadata": {
      "needs_background": "light"
     },
     "output_type": "display_data"
    }
   ],
   "source": [
    "(current_days_exposition_date\n",
    "     .sort_values(by='cityCenters_nearest',ascending=True)\n",
    "     .plot(x='cityCenters_nearest',y='last_price',style='o',alpha=0.3)\n",
    ")"
   ]
  },
  {
   "cell_type": "code",
   "execution_count": 85,
   "metadata": {},
   "outputs": [
    {
     "data": {
      "text/plain": [
       "-0.25785112335754623"
      ]
     },
     "execution_count": 85,
     "metadata": {},
     "output_type": "execute_result"
    }
   ],
   "source": [
    "current_days_exposition_date['cityCenters_nearest'].corr(current_days_exposition_date['last_price'])"
   ]
  },
  {
   "cell_type": "markdown",
   "metadata": {},
   "source": [
    "Очень большой разброс, но можно увидеть плотности, которые показывают, что при увеличении расстояния, стоимость уменьшается не сильно. Об этом говорить и коэф Пирсона. Он положительный=0,26"
   ]
  },
  {
   "cell_type": "code",
   "execution_count": 86,
   "metadata": {},
   "outputs": [
    {
     "data": {
      "text/plain": [
       "<matplotlib.axes._subplots.AxesSubplot at 0x1221d6910>"
      ]
     },
     "execution_count": 86,
     "metadata": {},
     "output_type": "execute_result"
    },
    {
     "data": {
      "image/png": "[encoded data removed]",
      "text/plain": [
       "<Figure size 432x288 with 1 Axes>"
      ]
     },
     "metadata": {
      "needs_background": "light"
     },
     "output_type": "display_data"
    }
   ],
   "source": [
    "(current_days_exposition_date\n",
    "     #.pivot_table(index='week_day',values='last_price',aggfunc=('median'))\n",
    "     .groupby('week_day')['last_price'].count()\n",
    "     .plot(x='week_day',y='last_price',kind='bar')\n",
    ")"
   ]
  },
  {
   "cell_type": "markdown",
   "metadata": {},
   "source": [
    "По гистограмме видно, что чаще всего объявления закрываются во вторник, четверг и пятницу. В выходные меньше всего. т.к выходные! "
   ]
  },
  {
   "cell_type": "code",
   "execution_count": 87,
   "metadata": {},
   "outputs": [
    {
     "data": {
      "text/plain": [
       "<matplotlib.axes._subplots.AxesSubplot at 0x12081c5d0>"
      ]
     },
     "execution_count": 87,
     "metadata": {},
     "output_type": "execute_result"
    },
    {
     "data": {
      "image/png": "[encoded data removed]",
      "text/plain": [
       "<Figure size 432x288 with 1 Axes>"
      ]
     },
     "metadata": {
      "needs_background": "light"
     },
     "output_type": "display_data"
    }
   ],
   "source": [
    "(current_days_exposition_date\n",
    "     #.pivot_table(index='week_day',values='last_price',aggfunc=('median'))\n",
    "     .groupby('month')['last_price'].count()\n",
    "     .plot(x='month',y='last_price',kind='bar')\n",
    ")"
   ]
  },
  {
   "cell_type": "markdown",
   "metadata": {},
   "source": [
    "Из гистограммы видно, что объявления меньше всего закрываются в месяцы перед НГ в декабре и после НГ в январе. Много выходных и люди тратят деньги на подарки и отдых. В мае низко тоже из-зи праздников. "
   ]
  },
  {
   "cell_type": "code",
   "execution_count": 88,
   "metadata": {},
   "outputs": [
    {
     "data": {
      "text/plain": [
       "<matplotlib.axes._subplots.AxesSubplot at 0x122ffac50>"
      ]
     },
     "execution_count": 88,
     "metadata": {},
     "output_type": "execute_result"
    },
    {
     "data": {
      "image/png": "[encoded data removed]",
      "text/plain": [
       "<Figure size 432x288 with 1 Axes>"
      ]
     },
     "metadata": {
      "needs_background": "light"
     },
     "output_type": "display_data"
    }
   ],
   "source": [
    "(current_days_exposition_date\n",
    "     #.pivot_table(index='week_day',values='last_price',aggfunc=('median'))\n",
    "     .groupby('year')['last_price'].count()\n",
    "     .plot(x='year',y='last_price',kind='bar')\n",
    ")"
   ]
  },
  {
   "cell_type": "markdown",
   "metadata": {},
   "source": [
    "Больше всего продаж в 2017 и 2018 году. "
   ]
  },
  {
   "cell_type": "code",
   "execution_count": 90,
   "metadata": {},
   "outputs": [
    {
     "data": {
      "text/html": [
       "<div>\n",
       "<style scoped>\n",
       "    .dataframe tbody tr th:only-of-type {\n",
       "        vertical-align: middle;\n",
       "    }\n",
       "\n",
       "    .dataframe tbody tr th {\n",
       "        vertical-align: top;\n",
       "    }\n",
       "\n",
       "    .dataframe thead th {\n",
       "        text-align: right;\n",
       "    }\n",
       "</style>\n",
       "<table border=\"1\" class=\"dataframe\">\n",
       "  <thead>\n",
       "    <tr style=\"text-align: right;\">\n",
       "      <th></th>\n",
       "      <th>count</th>\n",
       "      <th>median</th>\n",
       "    </tr>\n",
       "    <tr>\n",
       "      <th>locality_name</th>\n",
       "      <th></th>\n",
       "      <th></th>\n",
       "    </tr>\n",
       "  </thead>\n",
       "  <tbody>\n",
       "    <tr>\n",
       "      <th>Санкт-Петербург</th>\n",
       "      <td>12174</td>\n",
       "      <td>187910.624401</td>\n",
       "    </tr>\n",
       "    <tr>\n",
       "      <th>посёлок Мурино</th>\n",
       "      <td>479</td>\n",
       "      <td>177389.637355</td>\n",
       "    </tr>\n",
       "    <tr>\n",
       "      <th>посёлок Шушары</th>\n",
       "      <td>404</td>\n",
       "      <td>150424.203462</td>\n",
       "    </tr>\n",
       "    <tr>\n",
       "      <th>Всеволожск</th>\n",
       "      <td>347</td>\n",
       "      <td>128571.428571</td>\n",
       "    </tr>\n",
       "    <tr>\n",
       "      <th>Колпино</th>\n",
       "      <td>314</td>\n",
       "      <td>126794.871795</td>\n",
       "    </tr>\n",
       "    <tr>\n",
       "      <th>Пушкин</th>\n",
       "      <td>305</td>\n",
       "      <td>183510.638298</td>\n",
       "    </tr>\n",
       "    <tr>\n",
       "      <th>посёлок Парголово</th>\n",
       "      <td>299</td>\n",
       "      <td>200718.185634</td>\n",
       "    </tr>\n",
       "    <tr>\n",
       "      <th>Гатчина</th>\n",
       "      <td>266</td>\n",
       "      <td>119500.000000</td>\n",
       "    </tr>\n",
       "    <tr>\n",
       "      <th>деревня Кудрово</th>\n",
       "      <td>262</td>\n",
       "      <td>188187.004886</td>\n",
       "    </tr>\n",
       "    <tr>\n",
       "      <th>Выборг</th>\n",
       "      <td>200</td>\n",
       "      <td>98981.559196</td>\n",
       "    </tr>\n",
       "  </tbody>\n",
       "</table>\n",
       "</div>"
      ],
      "text/plain": [
       "                   count         median\n",
       "locality_name                          \n",
       "Санкт-Петербург    12174  187910.624401\n",
       "посёлок Мурино       479  177389.637355\n",
       "посёлок Шушары       404  150424.203462\n",
       "Всеволожск           347  128571.428571\n",
       "Колпино              314  126794.871795\n",
       "Пушкин               305  183510.638298\n",
       "посёлок Парголово    299  200718.185634\n",
       "Гатчина              266  119500.000000\n",
       "деревня Кудрово      262  188187.004886\n",
       "Выборг               200   98981.559196"
      ]
     },
     "execution_count": 90,
     "metadata": {},
     "output_type": "execute_result"
    }
   ],
   "source": [
    "#raiting_of_location=current_days_exposition_date.groupby('locality_name')['price_for_m2'].count()\n",
    "raiting_of_location=current_days_exposition_date.pivot_table(index='locality_name',values='price_for_m2',aggfunc=('count','median'))\n",
    "raiting_of_location.sort_values(by='count',ascending=False).head(10)\n"
   ]
  },
  {
   "cell_type": "markdown",
   "metadata": {},
   "source": [
    "Топ 10 регионов с самым большом количеством объявлений и их средней стоимостью 1 м кв"
   ]
  },
  {
   "cell_type": "markdown",
   "metadata": {},
   "source": [
    "В Санкт-Петербурге больше всего объявлений и самая большая стоимость 1 м кв"
   ]
  },
  {
   "cell_type": "markdown",
   "metadata": {},
   "source": [
    "В Выборге меньше всего объявлений и самая низкая стоимость 1 м кв"
   ]
  },
  {
   "cell_type": "code",
   "execution_count": 121,
   "metadata": {},
   "outputs": [],
   "source": [
    "current_days_exposition_date['cityCenters_nearest_in_km']=current_days_exposition_date['cityCenters_nearest']/1000"
   ]
  },
  {
   "cell_type": "markdown",
   "metadata": {},
   "source": [
    "добавил в основную таблицу столбец с расстоянием до центра в км"
   ]
  },
  {
   "cell_type": "code",
   "execution_count": 122,
   "metadata": {},
   "outputs": [],
   "source": [
    "current_days_exposition_date['cost_of_km']=current_days_exposition_date['last_price']/current_days_exposition_date['cityCenters_nearest_in_km']"
   ]
  },
  {
   "cell_type": "markdown",
   "metadata": {},
   "source": [
    "Посчитал стоимость 1 кв м для всех объектом и записал в таблицу."
   ]
  },
  {
   "cell_type": "code",
   "execution_count": 104,
   "metadata": {},
   "outputs": [
    {
     "data": {
      "text/html": [
       "<div>\n",
       "<style scoped>\n",
       "    .dataframe tbody tr th:only-of-type {\n",
       "        vertical-align: middle;\n",
       "    }\n",
       "\n",
       "    .dataframe tbody tr th {\n",
       "        vertical-align: top;\n",
       "    }\n",
       "\n",
       "    .dataframe thead th {\n",
       "        text-align: right;\n",
       "    }\n",
       "</style>\n",
       "<table border=\"1\" class=\"dataframe\">\n",
       "  <thead>\n",
       "    <tr style=\"text-align: right;\">\n",
       "      <th></th>\n",
       "      <th>Unnamed: 0</th>\n",
       "      <th>total_images</th>\n",
       "      <th>last_price</th>\n",
       "      <th>total_area</th>\n",
       "      <th>first_day_exposition</th>\n",
       "      <th>rooms</th>\n",
       "      <th>ceiling_height</th>\n",
       "      <th>floors_total</th>\n",
       "      <th>living_area</th>\n",
       "      <th>floor</th>\n",
       "      <th>is_apartment</th>\n",
       "      <th>studio</th>\n",
       "      <th>open_plan</th>\n",
       "      <th>kitchen_area</th>\n",
       "      <th>balcony</th>\n",
       "      <th>locality_name</th>\n",
       "      <th>airports_nearest</th>\n",
       "      <th>cityCenters_nearest</th>\n",
       "      <th>parks_around3000</th>\n",
       "      <th>parks_nearest</th>\n",
       "      <th>ponds_around3000</th>\n",
       "      <th>ponds_nearest</th>\n",
       "      <th>days_exposition</th>\n",
       "      <th>price_for_m2</th>\n",
       "      <th>Floor_position</th>\n",
       "      <th>week_day</th>\n",
       "      <th>month</th>\n",
       "      <th>year</th>\n",
       "      <th>living_area/total_area</th>\n",
       "      <th>kitchen_area/living_area</th>\n",
       "      <th>cityCenters_nearest_in_km</th>\n",
       "      <th>cost_of_km</th>\n",
       "    </tr>\n",
       "  </thead>\n",
       "  <tbody>\n",
       "    <tr>\n",
       "      <th>4</th>\n",
       "      <td>4</td>\n",
       "      <td>2</td>\n",
       "      <td>10000000.0</td>\n",
       "      <td>100.0</td>\n",
       "      <td>2018-06-19</td>\n",
       "      <td>2</td>\n",
       "      <td>3.03</td>\n",
       "      <td>4</td>\n",
       "      <td>32.00000</td>\n",
       "      <td>13</td>\n",
       "      <td>True</td>\n",
       "      <td>False</td>\n",
       "      <td>False</td>\n",
       "      <td>41.0</td>\n",
       "      <td>0</td>\n",
       "      <td>Санкт-Петербург</td>\n",
       "      <td>31856.0</td>\n",
       "      <td>8098.0</td>\n",
       "      <td>2</td>\n",
       "      <td>112.000000</td>\n",
       "      <td>1</td>\n",
       "      <td>48.000000</td>\n",
       "      <td>121</td>\n",
       "      <td>312500.000000</td>\n",
       "      <td>Другой этаж</td>\n",
       "      <td>1</td>\n",
       "      <td>6</td>\n",
       "      <td>2018</td>\n",
       "      <td>0.320000</td>\n",
       "      <td>1.281250</td>\n",
       "      <td>8.098</td>\n",
       "      <td>1.234873e+06</td>\n",
       "    </tr>\n",
       "    <tr>\n",
       "      <th>7</th>\n",
       "      <td>7</td>\n",
       "      <td>5</td>\n",
       "      <td>7915000.0</td>\n",
       "      <td>71.6</td>\n",
       "      <td>2019-04-18</td>\n",
       "      <td>2</td>\n",
       "      <td>2.65</td>\n",
       "      <td>7</td>\n",
       "      <td>36.80599</td>\n",
       "      <td>22</td>\n",
       "      <td>True</td>\n",
       "      <td>False</td>\n",
       "      <td>False</td>\n",
       "      <td>18.9</td>\n",
       "      <td>2</td>\n",
       "      <td>Санкт-Петербург</td>\n",
       "      <td>23982.0</td>\n",
       "      <td>11634.0</td>\n",
       "      <td>0</td>\n",
       "      <td>490.830729</td>\n",
       "      <td>0</td>\n",
       "      <td>518.043923</td>\n",
       "      <td>95</td>\n",
       "      <td>215046.515335</td>\n",
       "      <td>Другой этаж</td>\n",
       "      <td>3</td>\n",
       "      <td>4</td>\n",
       "      <td>2019</td>\n",
       "      <td>0.514050</td>\n",
       "      <td>0.513503</td>\n",
       "      <td>11.634</td>\n",
       "      <td>6.803335e+05</td>\n",
       "    </tr>\n",
       "    <tr>\n",
       "      <th>9</th>\n",
       "      <td>9</td>\n",
       "      <td>18</td>\n",
       "      <td>5400000.0</td>\n",
       "      <td>61.0</td>\n",
       "      <td>2017-02-26</td>\n",
       "      <td>3</td>\n",
       "      <td>2.50</td>\n",
       "      <td>9</td>\n",
       "      <td>43.60000</td>\n",
       "      <td>7</td>\n",
       "      <td>True</td>\n",
       "      <td>False</td>\n",
       "      <td>False</td>\n",
       "      <td>6.5</td>\n",
       "      <td>2</td>\n",
       "      <td>Санкт-Петербург</td>\n",
       "      <td>50898.0</td>\n",
       "      <td>15008.0</td>\n",
       "      <td>0</td>\n",
       "      <td>490.830729</td>\n",
       "      <td>0</td>\n",
       "      <td>518.043923</td>\n",
       "      <td>289</td>\n",
       "      <td>123853.211009</td>\n",
       "      <td>Другой этаж</td>\n",
       "      <td>6</td>\n",
       "      <td>2</td>\n",
       "      <td>2017</td>\n",
       "      <td>0.714754</td>\n",
       "      <td>0.149083</td>\n",
       "      <td>15.008</td>\n",
       "      <td>3.598081e+05</td>\n",
       "    </tr>\n",
       "    <tr>\n",
       "      <th>10</th>\n",
       "      <td>10</td>\n",
       "      <td>5</td>\n",
       "      <td>5050000.0</td>\n",
       "      <td>39.6</td>\n",
       "      <td>2017-11-16</td>\n",
       "      <td>1</td>\n",
       "      <td>2.67</td>\n",
       "      <td>10</td>\n",
       "      <td>20.30000</td>\n",
       "      <td>3</td>\n",
       "      <td>True</td>\n",
       "      <td>False</td>\n",
       "      <td>False</td>\n",
       "      <td>8.5</td>\n",
       "      <td>0</td>\n",
       "      <td>Санкт-Петербург</td>\n",
       "      <td>38357.0</td>\n",
       "      <td>13878.0</td>\n",
       "      <td>1</td>\n",
       "      <td>310.000000</td>\n",
       "      <td>2</td>\n",
       "      <td>553.000000</td>\n",
       "      <td>137</td>\n",
       "      <td>248768.472906</td>\n",
       "      <td>Другой этаж</td>\n",
       "      <td>3</td>\n",
       "      <td>11</td>\n",
       "      <td>2017</td>\n",
       "      <td>0.512626</td>\n",
       "      <td>0.418719</td>\n",
       "      <td>13.878</td>\n",
       "      <td>3.638853e+05</td>\n",
       "    </tr>\n",
       "    <tr>\n",
       "      <th>15</th>\n",
       "      <td>15</td>\n",
       "      <td>16</td>\n",
       "      <td>4650000.0</td>\n",
       "      <td>39.0</td>\n",
       "      <td>2017-11-18</td>\n",
       "      <td>1</td>\n",
       "      <td>2.65</td>\n",
       "      <td>15</td>\n",
       "      <td>20.50000</td>\n",
       "      <td>5</td>\n",
       "      <td>True</td>\n",
       "      <td>False</td>\n",
       "      <td>False</td>\n",
       "      <td>7.6</td>\n",
       "      <td>1</td>\n",
       "      <td>Санкт-Петербург</td>\n",
       "      <td>12900.0</td>\n",
       "      <td>14259.0</td>\n",
       "      <td>1</td>\n",
       "      <td>590.000000</td>\n",
       "      <td>1</td>\n",
       "      <td>296.000000</td>\n",
       "      <td>19</td>\n",
       "      <td>226829.268293</td>\n",
       "      <td>Другой этаж</td>\n",
       "      <td>5</td>\n",
       "      <td>11</td>\n",
       "      <td>2017</td>\n",
       "      <td>0.525641</td>\n",
       "      <td>0.370732</td>\n",
       "      <td>14.259</td>\n",
       "      <td>3.261098e+05</td>\n",
       "    </tr>\n",
       "  </tbody>\n",
       "</table>\n",
       "</div>"
      ],
      "text/plain": [
       "    Unnamed: 0  total_images  last_price  total_area first_day_exposition  \\\n",
       "4            4             2  10000000.0       100.0           2018-06-19   \n",
       "7            7             5   7915000.0        71.6           2019-04-18   \n",
       "9            9            18   5400000.0        61.0           2017-02-26   \n",
       "10          10             5   5050000.0        39.6           2017-11-16   \n",
       "15          15            16   4650000.0        39.0           2017-11-18   \n",
       "\n",
       "    rooms  ceiling_height  floors_total  living_area  floor  is_apartment  \\\n",
       "4       2            3.03             4     32.00000     13          True   \n",
       "7       2            2.65             7     36.80599     22          True   \n",
       "9       3            2.50             9     43.60000      7          True   \n",
       "10      1            2.67            10     20.30000      3          True   \n",
       "15      1            2.65            15     20.50000      5          True   \n",
       "\n",
       "    studio  open_plan  kitchen_area  balcony    locality_name  \\\n",
       "4    False      False          41.0        0  Санкт-Петербург   \n",
       "7    False      False          18.9        2  Санкт-Петербург   \n",
       "9    False      False           6.5        2  Санкт-Петербург   \n",
       "10   False      False           8.5        0  Санкт-Петербург   \n",
       "15   False      False           7.6        1  Санкт-Петербург   \n",
       "\n",
       "    airports_nearest  cityCenters_nearest  parks_around3000  parks_nearest  \\\n",
       "4            31856.0               8098.0                 2     112.000000   \n",
       "7            23982.0              11634.0                 0     490.830729   \n",
       "9            50898.0              15008.0                 0     490.830729   \n",
       "10           38357.0              13878.0                 1     310.000000   \n",
       "15           12900.0              14259.0                 1     590.000000   \n",
       "\n",
       "    ponds_around3000  ponds_nearest  days_exposition   price_for_m2  \\\n",
       "4                  1      48.000000              121  312500.000000   \n",
       "7                  0     518.043923               95  215046.515335   \n",
       "9                  0     518.043923              289  123853.211009   \n",
       "10                 2     553.000000              137  248768.472906   \n",
       "15                 1     296.000000               19  226829.268293   \n",
       "\n",
       "   Floor_position  week_day  month  year  living_area/total_area  \\\n",
       "4     Другой этаж         1      6  2018                0.320000   \n",
       "7     Другой этаж         3      4  2019                0.514050   \n",
       "9     Другой этаж         6      2  2017                0.714754   \n",
       "10    Другой этаж         3     11  2017                0.512626   \n",
       "15    Другой этаж         5     11  2017                0.525641   \n",
       "\n",
       "    kitchen_area/living_area  cityCenters_nearest_in_km    cost_of_km  \n",
       "4                   1.281250                      8.098  1.234873e+06  \n",
       "7                   0.513503                     11.634  6.803335e+05  \n",
       "9                   0.149083                     15.008  3.598081e+05  \n",
       "10                  0.418719                     13.878  3.638853e+05  \n",
       "15                  0.370732                     14.259  3.261098e+05  "
      ]
     },
     "execution_count": 104,
     "metadata": {},
     "output_type": "execute_result"
    }
   ],
   "source": [
    "spb_region=current_days_exposition_date.query('locality_name==\"Санкт-Петербург\"')\n",
    "spb_region.head()"
   ]
  },
  {
   "cell_type": "markdown",
   "metadata": {},
   "source": [
    "Сделал срез по региону Санкт-Петербург"
   ]
  },
  {
   "cell_type": "code",
   "execution_count": 105,
   "metadata": {},
   "outputs": [
    {
     "data": {
      "text/plain": [
       "<matplotlib.axes._subplots.AxesSubplot at 0x1246b8f50>"
      ]
     },
     "execution_count": 105,
     "metadata": {},
     "output_type": "execute_result"
    },
    {
     "data": {
      "image/png": "[encoded data removed]",
      "text/plain": [
       "<Figure size 1080x360 with 1 Axes>"
      ]
     },
     "metadata": {
      "needs_background": "light"
     },
     "output_type": "display_data"
    }
   ],
   "source": [
    "(spb_region\n",
    "     .sort_values(by='cityCenters_nearest_in_km',ascending=True)\n",
    "     .plot(x='cityCenters_nearest_in_km',y='cost_of_km', style='-',figsize=(15,5))\n",
    ")"
   ]
  },
  {
   "cell_type": "markdown",
   "metadata": {},
   "source": [
    "График зависимости цены 1 м кв от расстояния в регионе Спб. По нему видно, что после 5 км от центра цена почти не меняется и идет плотной линией."
   ]
  },
  {
   "cell_type": "code",
   "execution_count": 106,
   "metadata": {},
   "outputs": [],
   "source": [
    "spb_region=spb_region.query('cityCenters_nearest_in_km<5')"
   ]
  },
  {
   "cell_type": "code",
   "execution_count": 107,
   "metadata": {},
   "outputs": [
    {
     "data": {
      "text/plain": [
       "1005"
      ]
     },
     "execution_count": 107,
     "metadata": {},
     "output_type": "execute_result"
    }
   ],
   "source": [
    "len(spb_region)"
   ]
  },
  {
   "cell_type": "markdown",
   "metadata": {},
   "source": [
    "Квартиры в центра"
   ]
  },
  {
   "cell_type": "code",
   "execution_count": 108,
   "metadata": {},
   "outputs": [
    {
     "data": {
      "text/html": [
       "<div>\n",
       "<style scoped>\n",
       "    .dataframe tbody tr th:only-of-type {\n",
       "        vertical-align: middle;\n",
       "    }\n",
       "\n",
       "    .dataframe tbody tr th {\n",
       "        vertical-align: top;\n",
       "    }\n",
       "\n",
       "    .dataframe thead th {\n",
       "        text-align: right;\n",
       "    }\n",
       "</style>\n",
       "<table border=\"1\" class=\"dataframe\">\n",
       "  <thead>\n",
       "    <tr style=\"text-align: right;\">\n",
       "      <th></th>\n",
       "      <th>Unnamed: 0</th>\n",
       "      <th>total_images</th>\n",
       "      <th>last_price</th>\n",
       "      <th>total_area</th>\n",
       "      <th>first_day_exposition</th>\n",
       "      <th>rooms</th>\n",
       "      <th>ceiling_height</th>\n",
       "      <th>floors_total</th>\n",
       "      <th>living_area</th>\n",
       "      <th>floor</th>\n",
       "      <th>is_apartment</th>\n",
       "      <th>studio</th>\n",
       "      <th>open_plan</th>\n",
       "      <th>kitchen_area</th>\n",
       "      <th>balcony</th>\n",
       "      <th>locality_name</th>\n",
       "      <th>airports_nearest</th>\n",
       "      <th>cityCenters_nearest</th>\n",
       "      <th>parks_around3000</th>\n",
       "      <th>parks_nearest</th>\n",
       "      <th>ponds_around3000</th>\n",
       "      <th>ponds_nearest</th>\n",
       "      <th>days_exposition</th>\n",
       "      <th>price_for_m2</th>\n",
       "      <th>Floor_position</th>\n",
       "      <th>week_day</th>\n",
       "      <th>month</th>\n",
       "      <th>year</th>\n",
       "      <th>living_area/total_area</th>\n",
       "      <th>kitchen_area/living_area</th>\n",
       "      <th>cityCenters_nearest_in_km</th>\n",
       "      <th>cost_of_km</th>\n",
       "    </tr>\n",
       "  </thead>\n",
       "  <tbody>\n",
       "    <tr>\n",
       "      <th>8614</th>\n",
       "      <td>8614</td>\n",
       "      <td>7</td>\n",
       "      <td>10990000.0</td>\n",
       "      <td>100.0</td>\n",
       "      <td>2015-12-16</td>\n",
       "      <td>3</td>\n",
       "      <td>3.90</td>\n",
       "      <td>8614</td>\n",
       "      <td>37.800000</td>\n",
       "      <td>3</td>\n",
       "      <td>True</td>\n",
       "      <td>False</td>\n",
       "      <td>False</td>\n",
       "      <td>11.6</td>\n",
       "      <td>0</td>\n",
       "      <td>Санкт-Петербург</td>\n",
       "      <td>21818.0</td>\n",
       "      <td>215.0</td>\n",
       "      <td>3</td>\n",
       "      <td>229.0</td>\n",
       "      <td>2</td>\n",
       "      <td>511.0</td>\n",
       "      <td>265</td>\n",
       "      <td>290740.740741</td>\n",
       "      <td>Другой этаж</td>\n",
       "      <td>2</td>\n",
       "      <td>12</td>\n",
       "      <td>2015</td>\n",
       "      <td>0.378000</td>\n",
       "      <td>0.306878</td>\n",
       "      <td>0.215</td>\n",
       "      <td>5.111628e+07</td>\n",
       "    </tr>\n",
       "    <tr>\n",
       "      <th>1934</th>\n",
       "      <td>1934</td>\n",
       "      <td>18</td>\n",
       "      <td>9590000.0</td>\n",
       "      <td>108.0</td>\n",
       "      <td>2017-05-23</td>\n",
       "      <td>2</td>\n",
       "      <td>3.30</td>\n",
       "      <td>1934</td>\n",
       "      <td>59.000000</td>\n",
       "      <td>2</td>\n",
       "      <td>False</td>\n",
       "      <td>False</td>\n",
       "      <td>False</td>\n",
       "      <td>11.0</td>\n",
       "      <td>0</td>\n",
       "      <td>Санкт-Петербург</td>\n",
       "      <td>21908.0</td>\n",
       "      <td>287.0</td>\n",
       "      <td>3</td>\n",
       "      <td>359.0</td>\n",
       "      <td>3</td>\n",
       "      <td>290.0</td>\n",
       "      <td>69</td>\n",
       "      <td>162542.372881</td>\n",
       "      <td>Другой этаж</td>\n",
       "      <td>1</td>\n",
       "      <td>5</td>\n",
       "      <td>2017</td>\n",
       "      <td>0.546296</td>\n",
       "      <td>0.186441</td>\n",
       "      <td>0.287</td>\n",
       "      <td>3.341463e+07</td>\n",
       "    </tr>\n",
       "    <tr>\n",
       "      <th>1182</th>\n",
       "      <td>1182</td>\n",
       "      <td>1</td>\n",
       "      <td>5800000.0</td>\n",
       "      <td>33.6</td>\n",
       "      <td>2016-03-10</td>\n",
       "      <td>1</td>\n",
       "      <td>3.70</td>\n",
       "      <td>1182</td>\n",
       "      <td>22.800000</td>\n",
       "      <td>4</td>\n",
       "      <td>False</td>\n",
       "      <td>False</td>\n",
       "      <td>False</td>\n",
       "      <td>6.6</td>\n",
       "      <td>0</td>\n",
       "      <td>Санкт-Петербург</td>\n",
       "      <td>21632.0</td>\n",
       "      <td>208.0</td>\n",
       "      <td>3</td>\n",
       "      <td>304.0</td>\n",
       "      <td>3</td>\n",
       "      <td>503.0</td>\n",
       "      <td>167</td>\n",
       "      <td>254385.964912</td>\n",
       "      <td>Другой этаж</td>\n",
       "      <td>3</td>\n",
       "      <td>3</td>\n",
       "      <td>2016</td>\n",
       "      <td>0.678571</td>\n",
       "      <td>0.289474</td>\n",
       "      <td>0.208</td>\n",
       "      <td>2.788462e+07</td>\n",
       "    </tr>\n",
       "    <tr>\n",
       "      <th>22036</th>\n",
       "      <td>22036</td>\n",
       "      <td>3</td>\n",
       "      <td>7200000.0</td>\n",
       "      <td>72.0</td>\n",
       "      <td>2017-12-21</td>\n",
       "      <td>2</td>\n",
       "      <td>3.07</td>\n",
       "      <td>22036</td>\n",
       "      <td>44.900000</td>\n",
       "      <td>2</td>\n",
       "      <td>True</td>\n",
       "      <td>False</td>\n",
       "      <td>False</td>\n",
       "      <td>12.3</td>\n",
       "      <td>0</td>\n",
       "      <td>Санкт-Петербург</td>\n",
       "      <td>21875.0</td>\n",
       "      <td>329.0</td>\n",
       "      <td>3</td>\n",
       "      <td>426.0</td>\n",
       "      <td>3</td>\n",
       "      <td>273.0</td>\n",
       "      <td>89</td>\n",
       "      <td>160356.347439</td>\n",
       "      <td>Другой этаж</td>\n",
       "      <td>3</td>\n",
       "      <td>12</td>\n",
       "      <td>2017</td>\n",
       "      <td>0.623611</td>\n",
       "      <td>0.273942</td>\n",
       "      <td>0.329</td>\n",
       "      <td>2.188450e+07</td>\n",
       "    </tr>\n",
       "    <tr>\n",
       "      <th>9488</th>\n",
       "      <td>9488</td>\n",
       "      <td>3</td>\n",
       "      <td>8000000.0</td>\n",
       "      <td>106.0</td>\n",
       "      <td>2018-07-26</td>\n",
       "      <td>3</td>\n",
       "      <td>3.40</td>\n",
       "      <td>9488</td>\n",
       "      <td>37.201254</td>\n",
       "      <td>1</td>\n",
       "      <td>True</td>\n",
       "      <td>False</td>\n",
       "      <td>False</td>\n",
       "      <td>9.1</td>\n",
       "      <td>0</td>\n",
       "      <td>Санкт-Петербург</td>\n",
       "      <td>21653.0</td>\n",
       "      <td>410.0</td>\n",
       "      <td>3</td>\n",
       "      <td>591.0</td>\n",
       "      <td>2</td>\n",
       "      <td>38.0</td>\n",
       "      <td>60</td>\n",
       "      <td>215046.515335</td>\n",
       "      <td>Первый этаж</td>\n",
       "      <td>3</td>\n",
       "      <td>7</td>\n",
       "      <td>2018</td>\n",
       "      <td>0.350955</td>\n",
       "      <td>0.244615</td>\n",
       "      <td>0.410</td>\n",
       "      <td>1.951220e+07</td>\n",
       "    </tr>\n",
       "  </tbody>\n",
       "</table>\n",
       "</div>"
      ],
      "text/plain": [
       "       Unnamed: 0  total_images  last_price  total_area first_day_exposition  \\\n",
       "8614         8614             7  10990000.0       100.0           2015-12-16   \n",
       "1934         1934            18   9590000.0       108.0           2017-05-23   \n",
       "1182         1182             1   5800000.0        33.6           2016-03-10   \n",
       "22036       22036             3   7200000.0        72.0           2017-12-21   \n",
       "9488         9488             3   8000000.0       106.0           2018-07-26   \n",
       "\n",
       "       rooms  ceiling_height  floors_total  living_area  floor  is_apartment  \\\n",
       "8614       3            3.90          8614    37.800000      3          True   \n",
       "1934       2            3.30          1934    59.000000      2         False   \n",
       "1182       1            3.70          1182    22.800000      4         False   \n",
       "22036      2            3.07         22036    44.900000      2          True   \n",
       "9488       3            3.40          9488    37.201254      1          True   \n",
       "\n",
       "       studio  open_plan  kitchen_area  balcony    locality_name  \\\n",
       "8614    False      False          11.6        0  Санкт-Петербург   \n",
       "1934    False      False          11.0        0  Санкт-Петербург   \n",
       "1182    False      False           6.6        0  Санкт-Петербург   \n",
       "22036   False      False          12.3        0  Санкт-Петербург   \n",
       "9488    False      False           9.1        0  Санкт-Петербург   \n",
       "\n",
       "       airports_nearest  cityCenters_nearest  parks_around3000  parks_nearest  \\\n",
       "8614            21818.0                215.0                 3          229.0   \n",
       "1934            21908.0                287.0                 3          359.0   \n",
       "1182            21632.0                208.0                 3          304.0   \n",
       "22036           21875.0                329.0                 3          426.0   \n",
       "9488            21653.0                410.0                 3          591.0   \n",
       "\n",
       "       ponds_around3000  ponds_nearest  days_exposition   price_for_m2  \\\n",
       "8614                  2          511.0              265  290740.740741   \n",
       "1934                  3          290.0               69  162542.372881   \n",
       "1182                  3          503.0              167  254385.964912   \n",
       "22036                 3          273.0               89  160356.347439   \n",
       "9488                  2           38.0               60  215046.515335   \n",
       "\n",
       "      Floor_position  week_day  month  year  living_area/total_area  \\\n",
       "8614     Другой этаж         2     12  2015                0.378000   \n",
       "1934     Другой этаж         1      5  2017                0.546296   \n",
       "1182     Другой этаж         3      3  2016                0.678571   \n",
       "22036    Другой этаж         3     12  2017                0.623611   \n",
       "9488     Первый этаж         3      7  2018                0.350955   \n",
       "\n",
       "       kitchen_area/living_area  cityCenters_nearest_in_km    cost_of_km  \n",
       "8614                   0.306878                      0.215  5.111628e+07  \n",
       "1934                   0.186441                      0.287  3.341463e+07  \n",
       "1182                   0.289474                      0.208  2.788462e+07  \n",
       "22036                  0.273942                      0.329  2.188450e+07  \n",
       "9488                   0.244615                      0.410  1.951220e+07  "
      ]
     },
     "execution_count": 108,
     "metadata": {},
     "output_type": "execute_result"
    }
   ],
   "source": [
    "spb_region.sort_values(by='cost_of_km',ascending=False).head()"
   ]
  },
  {
   "cell_type": "markdown",
   "metadata": {},
   "source": [
    "Вывел самые высокие стоимости за м кв квартиры в центре региона Спб"
   ]
  },
  {
   "cell_type": "code",
   "execution_count": 109,
   "metadata": {},
   "outputs": [],
   "source": [
    "top=current_days_exposition_date.query('cityCenters_nearest_in_km<5 and locality_name==\"Санкт-Петербург\"')"
   ]
  },
  {
   "cell_type": "code",
   "execution_count": 110,
   "metadata": {},
   "outputs": [
    {
     "data": {
      "text/html": [
       "<div>\n",
       "<style scoped>\n",
       "    .dataframe tbody tr th:only-of-type {\n",
       "        vertical-align: middle;\n",
       "    }\n",
       "\n",
       "    .dataframe tbody tr th {\n",
       "        vertical-align: top;\n",
       "    }\n",
       "\n",
       "    .dataframe thead th {\n",
       "        text-align: right;\n",
       "    }\n",
       "</style>\n",
       "<table border=\"1\" class=\"dataframe\">\n",
       "  <thead>\n",
       "    <tr style=\"text-align: right;\">\n",
       "      <th></th>\n",
       "      <th>Unnamed: 0</th>\n",
       "      <th>total_images</th>\n",
       "      <th>last_price</th>\n",
       "      <th>total_area</th>\n",
       "      <th>first_day_exposition</th>\n",
       "      <th>rooms</th>\n",
       "      <th>ceiling_height</th>\n",
       "      <th>floors_total</th>\n",
       "      <th>living_area</th>\n",
       "      <th>floor</th>\n",
       "      <th>is_apartment</th>\n",
       "      <th>studio</th>\n",
       "      <th>open_plan</th>\n",
       "      <th>kitchen_area</th>\n",
       "      <th>balcony</th>\n",
       "      <th>locality_name</th>\n",
       "      <th>airports_nearest</th>\n",
       "      <th>cityCenters_nearest</th>\n",
       "      <th>parks_around3000</th>\n",
       "      <th>parks_nearest</th>\n",
       "      <th>ponds_around3000</th>\n",
       "      <th>ponds_nearest</th>\n",
       "      <th>days_exposition</th>\n",
       "      <th>price_for_m2</th>\n",
       "      <th>Floor_position</th>\n",
       "      <th>week_day</th>\n",
       "      <th>month</th>\n",
       "      <th>year</th>\n",
       "      <th>living_area/total_area</th>\n",
       "      <th>kitchen_area/living_area</th>\n",
       "      <th>cityCenters_nearest_in_km</th>\n",
       "      <th>cost_of_km</th>\n",
       "    </tr>\n",
       "  </thead>\n",
       "  <tbody>\n",
       "    <tr>\n",
       "      <th>24</th>\n",
       "      <td>24</td>\n",
       "      <td>8</td>\n",
       "      <td>6500000.0</td>\n",
       "      <td>97.2</td>\n",
       "      <td>2015-10-31</td>\n",
       "      <td>2</td>\n",
       "      <td>2.65</td>\n",
       "      <td>24</td>\n",
       "      <td>46.5</td>\n",
       "      <td>1</td>\n",
       "      <td>True</td>\n",
       "      <td>False</td>\n",
       "      <td>False</td>\n",
       "      <td>19.6</td>\n",
       "      <td>0</td>\n",
       "      <td>Санкт-Петербург</td>\n",
       "      <td>20052.0</td>\n",
       "      <td>2336.0</td>\n",
       "      <td>3</td>\n",
       "      <td>411.000000</td>\n",
       "      <td>3</td>\n",
       "      <td>124.000000</td>\n",
       "      <td>265</td>\n",
       "      <td>139784.946237</td>\n",
       "      <td>Первый этаж</td>\n",
       "      <td>5</td>\n",
       "      <td>10</td>\n",
       "      <td>2015</td>\n",
       "      <td>0.478395</td>\n",
       "      <td>0.421505</td>\n",
       "      <td>2.336</td>\n",
       "      <td>2.782534e+06</td>\n",
       "    </tr>\n",
       "    <tr>\n",
       "      <th>99</th>\n",
       "      <td>99</td>\n",
       "      <td>32</td>\n",
       "      <td>9600000.0</td>\n",
       "      <td>90.0</td>\n",
       "      <td>2017-09-26</td>\n",
       "      <td>4</td>\n",
       "      <td>2.65</td>\n",
       "      <td>99</td>\n",
       "      <td>67.0</td>\n",
       "      <td>2</td>\n",
       "      <td>True</td>\n",
       "      <td>False</td>\n",
       "      <td>False</td>\n",
       "      <td>8.0</td>\n",
       "      <td>0</td>\n",
       "      <td>Санкт-Петербург</td>\n",
       "      <td>23277.0</td>\n",
       "      <td>2818.0</td>\n",
       "      <td>0</td>\n",
       "      <td>490.830729</td>\n",
       "      <td>0</td>\n",
       "      <td>518.043923</td>\n",
       "      <td>104</td>\n",
       "      <td>143283.582090</td>\n",
       "      <td>Другой этаж</td>\n",
       "      <td>1</td>\n",
       "      <td>9</td>\n",
       "      <td>2017</td>\n",
       "      <td>0.744444</td>\n",
       "      <td>0.119403</td>\n",
       "      <td>2.818</td>\n",
       "      <td>3.406671e+06</td>\n",
       "    </tr>\n",
       "    <tr>\n",
       "      <th>136</th>\n",
       "      <td>136</td>\n",
       "      <td>16</td>\n",
       "      <td>6500000.0</td>\n",
       "      <td>51.8</td>\n",
       "      <td>2018-08-01</td>\n",
       "      <td>2</td>\n",
       "      <td>3.45</td>\n",
       "      <td>136</td>\n",
       "      <td>25.6</td>\n",
       "      <td>2</td>\n",
       "      <td>True</td>\n",
       "      <td>False</td>\n",
       "      <td>False</td>\n",
       "      <td>7.3</td>\n",
       "      <td>1</td>\n",
       "      <td>Санкт-Петербург</td>\n",
       "      <td>20502.0</td>\n",
       "      <td>3618.0</td>\n",
       "      <td>2</td>\n",
       "      <td>533.000000</td>\n",
       "      <td>1</td>\n",
       "      <td>812.000000</td>\n",
       "      <td>163</td>\n",
       "      <td>253906.250000</td>\n",
       "      <td>Другой этаж</td>\n",
       "      <td>2</td>\n",
       "      <td>8</td>\n",
       "      <td>2018</td>\n",
       "      <td>0.494208</td>\n",
       "      <td>0.285156</td>\n",
       "      <td>3.618</td>\n",
       "      <td>1.796573e+06</td>\n",
       "    </tr>\n",
       "    <tr>\n",
       "      <th>138</th>\n",
       "      <td>138</td>\n",
       "      <td>8</td>\n",
       "      <td>4800000.0</td>\n",
       "      <td>40.0</td>\n",
       "      <td>2017-11-18</td>\n",
       "      <td>2</td>\n",
       "      <td>2.65</td>\n",
       "      <td>138</td>\n",
       "      <td>29.0</td>\n",
       "      <td>2</td>\n",
       "      <td>True</td>\n",
       "      <td>False</td>\n",
       "      <td>False</td>\n",
       "      <td>6.0</td>\n",
       "      <td>0</td>\n",
       "      <td>Санкт-Петербург</td>\n",
       "      <td>23371.0</td>\n",
       "      <td>2913.0</td>\n",
       "      <td>0</td>\n",
       "      <td>490.830729</td>\n",
       "      <td>2</td>\n",
       "      <td>729.000000</td>\n",
       "      <td>80</td>\n",
       "      <td>165517.241379</td>\n",
       "      <td>Другой этаж</td>\n",
       "      <td>5</td>\n",
       "      <td>11</td>\n",
       "      <td>2017</td>\n",
       "      <td>0.725000</td>\n",
       "      <td>0.206897</td>\n",
       "      <td>2.913</td>\n",
       "      <td>1.647786e+06</td>\n",
       "    </tr>\n",
       "    <tr>\n",
       "      <th>154</th>\n",
       "      <td>154</td>\n",
       "      <td>1</td>\n",
       "      <td>8200000.0</td>\n",
       "      <td>80.0</td>\n",
       "      <td>2018-11-06</td>\n",
       "      <td>3</td>\n",
       "      <td>4.15</td>\n",
       "      <td>154</td>\n",
       "      <td>44.2</td>\n",
       "      <td>2</td>\n",
       "      <td>True</td>\n",
       "      <td>False</td>\n",
       "      <td>False</td>\n",
       "      <td>12.2</td>\n",
       "      <td>0</td>\n",
       "      <td>Санкт-Петербург</td>\n",
       "      <td>20562.0</td>\n",
       "      <td>3167.0</td>\n",
       "      <td>2</td>\n",
       "      <td>344.000000</td>\n",
       "      <td>1</td>\n",
       "      <td>838.000000</td>\n",
       "      <td>38</td>\n",
       "      <td>185520.361991</td>\n",
       "      <td>Другой этаж</td>\n",
       "      <td>1</td>\n",
       "      <td>11</td>\n",
       "      <td>2018</td>\n",
       "      <td>0.552500</td>\n",
       "      <td>0.276018</td>\n",
       "      <td>3.167</td>\n",
       "      <td>2.589201e+06</td>\n",
       "    </tr>\n",
       "  </tbody>\n",
       "</table>\n",
       "</div>"
      ],
      "text/plain": [
       "     Unnamed: 0  total_images  last_price  total_area first_day_exposition  \\\n",
       "24           24             8   6500000.0        97.2           2015-10-31   \n",
       "99           99            32   9600000.0        90.0           2017-09-26   \n",
       "136         136            16   6500000.0        51.8           2018-08-01   \n",
       "138         138             8   4800000.0        40.0           2017-11-18   \n",
       "154         154             1   8200000.0        80.0           2018-11-06   \n",
       "\n",
       "     rooms  ceiling_height  floors_total  living_area  floor  is_apartment  \\\n",
       "24       2            2.65            24         46.5      1          True   \n",
       "99       4            2.65            99         67.0      2          True   \n",
       "136      2            3.45           136         25.6      2          True   \n",
       "138      2            2.65           138         29.0      2          True   \n",
       "154      3            4.15           154         44.2      2          True   \n",
       "\n",
       "     studio  open_plan  kitchen_area  balcony    locality_name  \\\n",
       "24    False      False          19.6        0  Санкт-Петербург   \n",
       "99    False      False           8.0        0  Санкт-Петербург   \n",
       "136   False      False           7.3        1  Санкт-Петербург   \n",
       "138   False      False           6.0        0  Санкт-Петербург   \n",
       "154   False      False          12.2        0  Санкт-Петербург   \n",
       "\n",
       "     airports_nearest  cityCenters_nearest  parks_around3000  parks_nearest  \\\n",
       "24            20052.0               2336.0                 3     411.000000   \n",
       "99            23277.0               2818.0                 0     490.830729   \n",
       "136           20502.0               3618.0                 2     533.000000   \n",
       "138           23371.0               2913.0                 0     490.830729   \n",
       "154           20562.0               3167.0                 2     344.000000   \n",
       "\n",
       "     ponds_around3000  ponds_nearest  days_exposition   price_for_m2  \\\n",
       "24                  3     124.000000              265  139784.946237   \n",
       "99                  0     518.043923              104  143283.582090   \n",
       "136                 1     812.000000              163  253906.250000   \n",
       "138                 2     729.000000               80  165517.241379   \n",
       "154                 1     838.000000               38  185520.361991   \n",
       "\n",
       "    Floor_position  week_day  month  year  living_area/total_area  \\\n",
       "24     Первый этаж         5     10  2015                0.478395   \n",
       "99     Другой этаж         1      9  2017                0.744444   \n",
       "136    Другой этаж         2      8  2018                0.494208   \n",
       "138    Другой этаж         5     11  2017                0.725000   \n",
       "154    Другой этаж         1     11  2018                0.552500   \n",
       "\n",
       "     kitchen_area/living_area  cityCenters_nearest_in_km    cost_of_km  \n",
       "24                   0.421505                      2.336  2.782534e+06  \n",
       "99                   0.119403                      2.818  3.406671e+06  \n",
       "136                  0.285156                      3.618  1.796573e+06  \n",
       "138                  0.206897                      2.913  1.647786e+06  \n",
       "154                  0.276018                      3.167  2.589201e+06  "
      ]
     },
     "execution_count": 110,
     "metadata": {},
     "output_type": "execute_result"
    }
   ],
   "source": [
    "top.head()"
   ]
  },
  {
   "cell_type": "markdown",
   "metadata": {},
   "source": [
    "изчаем квартиры в центре в спб."
   ]
  },
  {
   "cell_type": "code",
   "execution_count": 111,
   "metadata": {},
   "outputs": [
    {
     "data": {
      "text/plain": [
       "<matplotlib.axes._subplots.AxesSubplot at 0x123bff450>"
      ]
     },
     "execution_count": 111,
     "metadata": {},
     "output_type": "execute_result"
    },
    {
     "data": {
      "image/png": "[encoded data removed]",
      "text/plain": [
       "<Figure size 432x288 with 1 Axes>"
      ]
     },
     "metadata": {
      "needs_background": "light"
     },
     "output_type": "display_data"
    }
   ],
   "source": [
    "top['last_price'].hist(bins=30)"
   ]
  },
  {
   "cell_type": "markdown",
   "metadata": {},
   "source": [
    "В центральном районе больше всего квартир за 7 млн руб"
   ]
  },
  {
   "cell_type": "code",
   "execution_count": 112,
   "metadata": {},
   "outputs": [
    {
     "data": {
      "text/plain": [
       "<matplotlib.axes._subplots.AxesSubplot at 0x1246611d0>"
      ]
     },
     "execution_count": 112,
     "metadata": {},
     "output_type": "execute_result"
    },
    {
     "data": {
      "image/png": "[encoded data removed]",
      "text/plain": [
       "<Figure size 432x288 with 1 Axes>"
      ]
     },
     "metadata": {
      "needs_background": "light"
     },
     "output_type": "display_data"
    }
   ],
   "source": [
    "top['total_area'].hist(bins=30)"
   ]
  },
  {
   "cell_type": "markdown",
   "metadata": {},
   "source": [
    "В центральном районе большая часть квартир в районе 60 м кв"
   ]
  },
  {
   "cell_type": "code",
   "execution_count": 113,
   "metadata": {},
   "outputs": [
    {
     "data": {
      "text/plain": [
       "<matplotlib.axes._subplots.AxesSubplot at 0x125c4d2d0>"
      ]
     },
     "execution_count": 113,
     "metadata": {},
     "output_type": "execute_result"
    },
    {
     "data": {
      "image/png": "[encoded data removed]",
      "text/plain": [
       "<Figure size 432x288 with 1 Axes>"
      ]
     },
     "metadata": {
      "needs_background": "light"
     },
     "output_type": "display_data"
    }
   ],
   "source": [
    "top['rooms'].hist(bins=30)"
   ]
  },
  {
   "cell_type": "markdown",
   "metadata": {},
   "source": [
    "В центральном районе больше всего продается 2 квартиры"
   ]
  },
  {
   "cell_type": "code",
   "execution_count": 114,
   "metadata": {},
   "outputs": [
    {
     "data": {
      "text/plain": [
       "<matplotlib.axes._subplots.AxesSubplot at 0x1260ad750>"
      ]
     },
     "execution_count": 114,
     "metadata": {},
     "output_type": "execute_result"
    },
    {
     "data": {
      "image/png": "[encoded data removed]",
      "text/plain": [
       "<Figure size 432x288 with 1 Axes>"
      ]
     },
     "metadata": {
      "needs_background": "light"
     },
     "output_type": "display_data"
    }
   ],
   "source": [
    "top['ceiling_height'].hist(bins=30,range=(2,5))"
   ]
  },
  {
   "cell_type": "markdown",
   "metadata": {},
   "source": [
    "В центральном районе больше всего продается квартир с высотой потолка 2,6 м "
   ]
  },
  {
   "cell_type": "code",
   "execution_count": 115,
   "metadata": {},
   "outputs": [
    {
     "data": {
      "image/png": "[encoded data removed]",
      "text/plain": [
       "<Figure size 1080x576 with 1 Axes>"
      ]
     },
     "metadata": {
      "needs_background": "light"
     },
     "output_type": "display_data"
    }
   ],
   "source": [
    "(top\n",
    "     .sort_values(by='last_price',ascending=True)\n",
    "     #.pivot_table(index='last_price_x',values='rooms_x')\n",
    "     .groupby('rooms')['last_price'].median()\n",
    "     .plot(x='rooms',y='last_price',style='o-',grid=True,figsize=(15,8),legend=True)\n",
    ")\n",
    "\n",
    "\n",
    "(current_days_exposition_date\n",
    "     .groupby('rooms')['last_price'].median()\n",
    "    # .sort_values(by='rooms',ascending=True)\n",
    "     .plot(x='rooms',y='last_price',style='o-',grid=True,figsize=(15,8),legend=True)\n",
    ")\n",
    "plt.show()"
   ]
  },
  {
   "cell_type": "markdown",
   "metadata": {},
   "source": [
    "На графике видно, что с увеличением комнат увеличивается стоимость. График квартир в центре сдвинут вверх отностительно всех квартир, тк в центре квартиры дороже. Самые дорогие 5 комнатные квартиры"
   ]
  },
  {
   "cell_type": "code",
   "execution_count": 116,
   "metadata": {},
   "outputs": [
    {
     "data": {
      "image/png": "[encoded data removed]",
      "text/plain": [
       "<Figure size 432x288 with 1 Axes>"
      ]
     },
     "metadata": {
      "needs_background": "light"
     },
     "output_type": "display_data"
    }
   ],
   "source": [
    "(top\n",
    "    .groupby('Floor_position')['last_price'].median()\n",
    "    .plot(x='Floor_position',y='last_price',style='o-',legend=True)\n",
    ")\n",
    "\n",
    "\n",
    "(current_days_exposition_date\n",
    "    .groupby('Floor_position')['last_price'].median()\n",
    "    .plot(x='Floor_position',y='last_price',style='o-',legend=True)\n",
    ")\n",
    "\n",
    "plt.show()"
   ]
  },
  {
   "cell_type": "markdown",
   "metadata": {},
   "source": [
    "Видно, что квартиры на последнем этаже покупают охотнее. На первом этаже покупают реже всего. В центральном районе они дороже"
   ]
  },
  {
   "cell_type": "code",
   "execution_count": 117,
   "metadata": {},
   "outputs": [
    {
     "data": {
      "image/png": "[encoded data removed]",
      "text/plain": [
       "<Figure size 432x288 with 1 Axes>"
      ]
     },
     "metadata": {
      "needs_background": "light"
     },
     "output_type": "display_data"
    },
    {
     "data": {
      "image/png": "[encoded data removed]",
      "text/plain": [
       "<Figure size 432x288 with 1 Axes>"
      ]
     },
     "metadata": {
      "needs_background": "light"
     },
     "output_type": "display_data"
    }
   ],
   "source": [
    "(top\n",
    "     .sort_values(by='cityCenters_nearest',ascending=True)\n",
    "     .plot(x='cityCenters_nearest',y='last_price',style='o',alpha=0.3)\n",
    ")\n",
    "\n",
    "(current_days_exposition_date\n",
    "     .sort_values(by='cityCenters_nearest',ascending=True)\n",
    "     .plot(x='cityCenters_nearest',y='last_price',style='o',alpha=0.3)\n",
    ")\n",
    "\n",
    "plt.show()"
   ]
  },
  {
   "cell_type": "markdown",
   "metadata": {},
   "source": [
    "По верхней гистограмме видно, что больше всего квартир на расстоянии 4-5км и стоят они от 6-8 млн. руб"
   ]
  },
  {
   "cell_type": "code",
   "execution_count": 118,
   "metadata": {},
   "outputs": [
    {
     "data": {
      "image/png": "[encoded data removed]",
      "text/plain": [
       "<Figure size 432x288 with 1 Axes>"
      ]
     },
     "metadata": {
      "needs_background": "light"
     },
     "output_type": "display_data"
    }
   ],
   "source": [
    "(top\n",
    "     #.pivot_table(index='week_day',values='last_price',aggfunc=('median'))\n",
    "     .groupby('week_day')['last_price'].count()\n",
    "     .plot(x='week_day',y='last_price',style='o',legend=True)\n",
    ")\n",
    "\n",
    "(current_days_exposition_date\n",
    "     #.pivot_table(index='week_day',values='last_price',aggfunc=('median'))\n",
    "     .groupby('week_day')['last_price'].count()\n",
    "     .plot(x='week_day',y='last_price',style='o',legend=True)\n",
    ")\n",
    "\n",
    "plt.show()\n",
    "\n"
   ]
  },
  {
   "cell_type": "markdown",
   "metadata": {},
   "source": [
    "В течении недели квартиры продаются примерно одинаково. в субб и в воскр сильно меньше."
   ]
  },
  {
   "cell_type": "code",
   "execution_count": 119,
   "metadata": {},
   "outputs": [
    {
     "data": {
      "image/png": "[encoded data removed]",
      "text/plain": [
       "<Figure size 432x288 with 1 Axes>"
      ]
     },
     "metadata": {
      "needs_background": "light"
     },
     "output_type": "display_data"
    }
   ],
   "source": [
    "\n",
    "(top\n",
    "     #.pivot_table(index='week_day',values='last_price',aggfunc=('median'))\n",
    "     .groupby('month')['last_price'].count()\n",
    "     .plot(x='month',y='last_price',style='-',legend=True)\n",
    ")\n",
    "(current_days_exposition_date\n",
    "     #.pivot_table(index='week_day',values='last_price',aggfunc=('median'))\n",
    "     .groupby('month')['last_price'].count()\n",
    "     .plot(x='month',y='last_price',style='-',legend=True)\n",
    ")\n",
    "\n",
    "plt.show()"
   ]
  },
  {
   "cell_type": "markdown",
   "metadata": {},
   "source": [
    "В течении года квартиры в центре продаются примерно одинаково."
   ]
  },
  {
   "cell_type": "code",
   "execution_count": 120,
   "metadata": {},
   "outputs": [
    {
     "data": {
      "image/png": "[encoded data removed]",
      "text/plain": [
       "<Figure size 432x288 with 1 Axes>"
      ]
     },
     "metadata": {
      "needs_background": "light"
     },
     "output_type": "display_data"
    }
   ],
   "source": [
    "(top\n",
    "     #.pivot_table(index='week_day',values='last_price',aggfunc=('median'))\n",
    "     .groupby('year')['last_price'].count()\n",
    "     .plot(x='year',y='last_price',style='-',legend=True)\n",
    ")\n",
    "(current_days_exposition_date\n",
    "     #.pivot_table(index='week_day',values='last_price',aggfunc=('median'))\n",
    "     .groupby('year')['last_price'].count()\n",
    "     .plot(x='year',y='last_price',style='-',legend=True)\n",
    ")\n",
    "\n",
    "plt.show()"
   ]
  },
  {
   "cell_type": "markdown",
   "metadata": {},
   "source": [
    "По графику можно сказать, что в 2018 году был подъем продаж. В целом квартиры c центре не сделали основные продажи в тот год."
   ]
  },
  {
   "cell_type": "markdown",
   "metadata": {},
   "source": [
    "### Шаг 5. Общий вывод"
   ]
  },
  {
   "cell_type": "markdown",
   "metadata": {},
   "source": [
    "Если обобщить все данные, то можно сделать вывод, что больше всего квартир продается в будние дни,1-3 комнатные квартиры, на любом, кроме первого этажа, с высотой потолка 2,6 м за цену около 4,5 млн. руб.\n",
    "Увидели, что цена кв. зависет от этажа, района, от высоты потолка и от кол-ва комнат. \n",
    "Корреляция этих параметров в центре похоже и для всех квартир."
   ]
  }
 ],
 "metadata": {
  "kernelspec": {
   "display_name": "Python 3",
   "language": "python",
   "name": "python3"
  },
  "language_info": {
   "codemirror_mode": {
    "name": "ipython",
    "version": 3
   },
   "file_extension": ".py",
   "mimetype": "text/x-python",
   "name": "python",
   "nbconvert_exporter": "python",
   "pygments_lexer": "ipython3",
   "version": "3.7.6"
  }
 },
 "nbformat": 4,
 "nbformat_minor": 2
}
